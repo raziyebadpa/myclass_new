{
  "nbformat": 4,
  "nbformat_minor": 0,
  "metadata": {
    "colab": {
      "name": "Copy of Vision Transformer AugReg",
      "provenance": [],
      "collapsed_sections": [],
      "toc_visible": true,
      "include_colab_link": true
    },
    "kernelspec": {
      "name": "python3",
      "display_name": "Python 3"
    },
    "language_info": {
      "name": "python"
    },
    "accelerator": "GPU",
    "widgets": {
      "application/vnd.jupyter.widget-state+json": {
        "6881a2cadfc64d3480677d8984376206": {
          "model_module": "@jupyter-widgets/controls",
          "model_name": "HBoxModel",
          "state": {
            "_view_name": "HBoxView",
            "_dom_classes": [],
            "_model_name": "HBoxModel",
            "_view_module": "@jupyter-widgets/controls",
            "_model_module_version": "1.5.0",
            "_view_count": null,
            "_view_module_version": "1.5.0",
            "box_style": "",
            "layout": "IPY_MODEL_ec4f9cf556ff44388da7bc6cd1565106",
            "_model_module": "@jupyter-widgets/controls",
            "children": [
              "IPY_MODEL_45a93bf4f24a443099d036f4fe5e9ffa",
              "IPY_MODEL_80034aa6ca85475db19e68cbcf775e97"
            ]
          }
        },
        "ec4f9cf556ff44388da7bc6cd1565106": {
          "model_module": "@jupyter-widgets/base",
          "model_name": "LayoutModel",
          "state": {
            "_view_name": "LayoutView",
            "grid_template_rows": null,
            "right": null,
            "justify_content": null,
            "_view_module": "@jupyter-widgets/base",
            "overflow": null,
            "_model_module_version": "1.2.0",
            "_view_count": null,
            "flex_flow": null,
            "width": null,
            "min_width": null,
            "border": null,
            "align_items": null,
            "bottom": null,
            "_model_module": "@jupyter-widgets/base",
            "top": null,
            "grid_column": null,
            "overflow_y": null,
            "overflow_x": null,
            "grid_auto_flow": null,
            "grid_area": null,
            "grid_template_columns": null,
            "flex": null,
            "_model_name": "LayoutModel",
            "justify_items": null,
            "grid_row": null,
            "max_height": null,
            "align_content": null,
            "visibility": null,
            "align_self": null,
            "height": null,
            "min_height": null,
            "padding": null,
            "grid_auto_rows": null,
            "grid_gap": null,
            "max_width": null,
            "order": null,
            "_view_module_version": "1.2.0",
            "grid_template_areas": null,
            "object_position": null,
            "object_fit": null,
            "grid_auto_columns": null,
            "margin": null,
            "display": null,
            "left": null
          }
        },
        "45a93bf4f24a443099d036f4fe5e9ffa": {
          "model_module": "@jupyter-widgets/controls",
          "model_name": "FloatProgressModel",
          "state": {
            "_view_name": "ProgressView",
            "style": "IPY_MODEL_871ad16f9413463eba8521e9f8923338",
            "_dom_classes": [],
            "description": "Dl Completed...: 100%",
            "_model_name": "FloatProgressModel",
            "bar_style": "success",
            "max": 1,
            "_view_module": "@jupyter-widgets/controls",
            "_model_module_version": "1.5.0",
            "value": 1,
            "_view_count": null,
            "_view_module_version": "1.5.0",
            "orientation": "horizontal",
            "min": 0,
            "description_tooltip": null,
            "_model_module": "@jupyter-widgets/controls",
            "layout": "IPY_MODEL_ba2e96a695b4453fb19282f0d981e4c8"
          }
        },
        "80034aa6ca85475db19e68cbcf775e97": {
          "model_module": "@jupyter-widgets/controls",
          "model_name": "HTMLModel",
          "state": {
            "_view_name": "HTMLView",
            "style": "IPY_MODEL_a9a6dd218eea4198b2c7d90340d52752",
            "_dom_classes": [],
            "description": "",
            "_model_name": "HTMLModel",
            "placeholder": "​",
            "_view_module": "@jupyter-widgets/controls",
            "_model_module_version": "1.5.0",
            "value": " 2/2 [00:45&lt;00:00, 22.81s/ url]",
            "_view_count": null,
            "_view_module_version": "1.5.0",
            "description_tooltip": null,
            "_model_module": "@jupyter-widgets/controls",
            "layout": "IPY_MODEL_db2ff0ec4e77478fbaf38ad46a5b8a28"
          }
        },
        "871ad16f9413463eba8521e9f8923338": {
          "model_module": "@jupyter-widgets/controls",
          "model_name": "ProgressStyleModel",
          "state": {
            "_view_name": "StyleView",
            "_model_name": "ProgressStyleModel",
            "description_width": "initial",
            "_view_module": "@jupyter-widgets/base",
            "_model_module_version": "1.5.0",
            "_view_count": null,
            "_view_module_version": "1.2.0",
            "bar_color": null,
            "_model_module": "@jupyter-widgets/controls"
          }
        },
        "ba2e96a695b4453fb19282f0d981e4c8": {
          "model_module": "@jupyter-widgets/base",
          "model_name": "LayoutModel",
          "state": {
            "_view_name": "LayoutView",
            "grid_template_rows": null,
            "right": null,
            "justify_content": null,
            "_view_module": "@jupyter-widgets/base",
            "overflow": null,
            "_model_module_version": "1.2.0",
            "_view_count": null,
            "flex_flow": null,
            "width": null,
            "min_width": null,
            "border": null,
            "align_items": null,
            "bottom": null,
            "_model_module": "@jupyter-widgets/base",
            "top": null,
            "grid_column": null,
            "overflow_y": null,
            "overflow_x": null,
            "grid_auto_flow": null,
            "grid_area": null,
            "grid_template_columns": null,
            "flex": null,
            "_model_name": "LayoutModel",
            "justify_items": null,
            "grid_row": null,
            "max_height": null,
            "align_content": null,
            "visibility": null,
            "align_self": null,
            "height": null,
            "min_height": null,
            "padding": null,
            "grid_auto_rows": null,
            "grid_gap": null,
            "max_width": null,
            "order": null,
            "_view_module_version": "1.2.0",
            "grid_template_areas": null,
            "object_position": null,
            "object_fit": null,
            "grid_auto_columns": null,
            "margin": null,
            "display": null,
            "left": null
          }
        },
        "a9a6dd218eea4198b2c7d90340d52752": {
          "model_module": "@jupyter-widgets/controls",
          "model_name": "DescriptionStyleModel",
          "state": {
            "_view_name": "StyleView",
            "_model_name": "DescriptionStyleModel",
            "description_width": "",
            "_view_module": "@jupyter-widgets/base",
            "_model_module_version": "1.5.0",
            "_view_count": null,
            "_view_module_version": "1.2.0",
            "_model_module": "@jupyter-widgets/controls"
          }
        },
        "db2ff0ec4e77478fbaf38ad46a5b8a28": {
          "model_module": "@jupyter-widgets/base",
          "model_name": "LayoutModel",
          "state": {
            "_view_name": "LayoutView",
            "grid_template_rows": null,
            "right": null,
            "justify_content": null,
            "_view_module": "@jupyter-widgets/base",
            "overflow": null,
            "_model_module_version": "1.2.0",
            "_view_count": null,
            "flex_flow": null,
            "width": null,
            "min_width": null,
            "border": null,
            "align_items": null,
            "bottom": null,
            "_model_module": "@jupyter-widgets/base",
            "top": null,
            "grid_column": null,
            "overflow_y": null,
            "overflow_x": null,
            "grid_auto_flow": null,
            "grid_area": null,
            "grid_template_columns": null,
            "flex": null,
            "_model_name": "LayoutModel",
            "justify_items": null,
            "grid_row": null,
            "max_height": null,
            "align_content": null,
            "visibility": null,
            "align_self": null,
            "height": null,
            "min_height": null,
            "padding": null,
            "grid_auto_rows": null,
            "grid_gap": null,
            "max_width": null,
            "order": null,
            "_view_module_version": "1.2.0",
            "grid_template_areas": null,
            "object_position": null,
            "object_fit": null,
            "grid_auto_columns": null,
            "margin": null,
            "display": null,
            "left": null
          }
        },
        "9cc6e9aa75e74b96996df4bb82bd6307": {
          "model_module": "@jupyter-widgets/controls",
          "model_name": "HBoxModel",
          "state": {
            "_view_name": "HBoxView",
            "_dom_classes": [],
            "_model_name": "HBoxModel",
            "_view_module": "@jupyter-widgets/controls",
            "_model_module_version": "1.5.0",
            "_view_count": null,
            "_view_module_version": "1.5.0",
            "box_style": "",
            "layout": "IPY_MODEL_303f3f5028bd481698ad8fb07a6cddfb",
            "_model_module": "@jupyter-widgets/controls",
            "children": [
              "IPY_MODEL_db79ec71d7b8486a99f166d824e581b6",
              "IPY_MODEL_6774b10d4a6f4836a6a444f9958609c8"
            ]
          }
        },
        "303f3f5028bd481698ad8fb07a6cddfb": {
          "model_module": "@jupyter-widgets/base",
          "model_name": "LayoutModel",
          "state": {
            "_view_name": "LayoutView",
            "grid_template_rows": null,
            "right": null,
            "justify_content": null,
            "_view_module": "@jupyter-widgets/base",
            "overflow": null,
            "_model_module_version": "1.2.0",
            "_view_count": null,
            "flex_flow": null,
            "width": null,
            "min_width": null,
            "border": null,
            "align_items": null,
            "bottom": null,
            "_model_module": "@jupyter-widgets/base",
            "top": null,
            "grid_column": null,
            "overflow_y": null,
            "overflow_x": null,
            "grid_auto_flow": null,
            "grid_area": null,
            "grid_template_columns": null,
            "flex": null,
            "_model_name": "LayoutModel",
            "justify_items": null,
            "grid_row": null,
            "max_height": null,
            "align_content": null,
            "visibility": null,
            "align_self": null,
            "height": null,
            "min_height": null,
            "padding": null,
            "grid_auto_rows": null,
            "grid_gap": null,
            "max_width": null,
            "order": null,
            "_view_module_version": "1.2.0",
            "grid_template_areas": null,
            "object_position": null,
            "object_fit": null,
            "grid_auto_columns": null,
            "margin": null,
            "display": null,
            "left": null
          }
        },
        "db79ec71d7b8486a99f166d824e581b6": {
          "model_module": "@jupyter-widgets/controls",
          "model_name": "FloatProgressModel",
          "state": {
            "_view_name": "ProgressView",
            "style": "IPY_MODEL_592c53e53b43431fb75888de94675841",
            "_dom_classes": [],
            "description": "Dl Size...: 100%",
            "_model_name": "FloatProgressModel",
            "bar_style": "success",
            "max": 1,
            "_view_module": "@jupyter-widgets/controls",
            "_model_module_version": "1.5.0",
            "value": 1,
            "_view_count": null,
            "_view_module_version": "1.5.0",
            "orientation": "horizontal",
            "min": 0,
            "description_tooltip": null,
            "_model_module": "@jupyter-widgets/controls",
            "layout": "IPY_MODEL_82082d10f9c74a8cac78a79cd830784d"
          }
        },
        "6774b10d4a6f4836a6a444f9958609c8": {
          "model_module": "@jupyter-widgets/controls",
          "model_name": "HTMLModel",
          "state": {
            "_view_name": "HTMLView",
            "style": "IPY_MODEL_cda761fb8d64437a802f0515ebde6cb5",
            "_dom_classes": [],
            "description": "",
            "_model_name": "HTMLModel",
            "placeholder": "​",
            "_view_module": "@jupyter-widgets/controls",
            "_model_module_version": "1.5.0",
            "value": " 773/773 [00:45&lt;00:00, 16.96 MiB/s]",
            "_view_count": null,
            "_view_module_version": "1.5.0",
            "description_tooltip": null,
            "_model_module": "@jupyter-widgets/controls",
            "layout": "IPY_MODEL_130bc67f47ae4770b9ffe674062b063f"
          }
        },
        "592c53e53b43431fb75888de94675841": {
          "model_module": "@jupyter-widgets/controls",
          "model_name": "ProgressStyleModel",
          "state": {
            "_view_name": "StyleView",
            "_model_name": "ProgressStyleModel",
            "description_width": "initial",
            "_view_module": "@jupyter-widgets/base",
            "_model_module_version": "1.5.0",
            "_view_count": null,
            "_view_module_version": "1.2.0",
            "bar_color": null,
            "_model_module": "@jupyter-widgets/controls"
          }
        },
        "82082d10f9c74a8cac78a79cd830784d": {
          "model_module": "@jupyter-widgets/base",
          "model_name": "LayoutModel",
          "state": {
            "_view_name": "LayoutView",
            "grid_template_rows": null,
            "right": null,
            "justify_content": null,
            "_view_module": "@jupyter-widgets/base",
            "overflow": null,
            "_model_module_version": "1.2.0",
            "_view_count": null,
            "flex_flow": null,
            "width": null,
            "min_width": null,
            "border": null,
            "align_items": null,
            "bottom": null,
            "_model_module": "@jupyter-widgets/base",
            "top": null,
            "grid_column": null,
            "overflow_y": null,
            "overflow_x": null,
            "grid_auto_flow": null,
            "grid_area": null,
            "grid_template_columns": null,
            "flex": null,
            "_model_name": "LayoutModel",
            "justify_items": null,
            "grid_row": null,
            "max_height": null,
            "align_content": null,
            "visibility": null,
            "align_self": null,
            "height": null,
            "min_height": null,
            "padding": null,
            "grid_auto_rows": null,
            "grid_gap": null,
            "max_width": null,
            "order": null,
            "_view_module_version": "1.2.0",
            "grid_template_areas": null,
            "object_position": null,
            "object_fit": null,
            "grid_auto_columns": null,
            "margin": null,
            "display": null,
            "left": null
          }
        },
        "cda761fb8d64437a802f0515ebde6cb5": {
          "model_module": "@jupyter-widgets/controls",
          "model_name": "DescriptionStyleModel",
          "state": {
            "_view_name": "StyleView",
            "_model_name": "DescriptionStyleModel",
            "description_width": "",
            "_view_module": "@jupyter-widgets/base",
            "_model_module_version": "1.5.0",
            "_view_count": null,
            "_view_module_version": "1.2.0",
            "_model_module": "@jupyter-widgets/controls"
          }
        },
        "130bc67f47ae4770b9ffe674062b063f": {
          "model_module": "@jupyter-widgets/base",
          "model_name": "LayoutModel",
          "state": {
            "_view_name": "LayoutView",
            "grid_template_rows": null,
            "right": null,
            "justify_content": null,
            "_view_module": "@jupyter-widgets/base",
            "overflow": null,
            "_model_module_version": "1.2.0",
            "_view_count": null,
            "flex_flow": null,
            "width": null,
            "min_width": null,
            "border": null,
            "align_items": null,
            "bottom": null,
            "_model_module": "@jupyter-widgets/base",
            "top": null,
            "grid_column": null,
            "overflow_y": null,
            "overflow_x": null,
            "grid_auto_flow": null,
            "grid_area": null,
            "grid_template_columns": null,
            "flex": null,
            "_model_name": "LayoutModel",
            "justify_items": null,
            "grid_row": null,
            "max_height": null,
            "align_content": null,
            "visibility": null,
            "align_self": null,
            "height": null,
            "min_height": null,
            "padding": null,
            "grid_auto_rows": null,
            "grid_gap": null,
            "max_width": null,
            "order": null,
            "_view_module_version": "1.2.0",
            "grid_template_areas": null,
            "object_position": null,
            "object_fit": null,
            "grid_auto_columns": null,
            "margin": null,
            "display": null,
            "left": null
          }
        },
        "c1a07fe805504a4aaefef25d6baa63a5": {
          "model_module": "@jupyter-widgets/controls",
          "model_name": "HBoxModel",
          "state": {
            "_view_name": "HBoxView",
            "_dom_classes": [],
            "_model_name": "HBoxModel",
            "_view_module": "@jupyter-widgets/controls",
            "_model_module_version": "1.5.0",
            "_view_count": null,
            "_view_module_version": "1.5.0",
            "box_style": "",
            "layout": "IPY_MODEL_962e58c150a94d0390b84c087388d144",
            "_model_module": "@jupyter-widgets/controls",
            "children": [
              "IPY_MODEL_0ee61fc115cb46168385ba0940f0e495",
              "IPY_MODEL_7d6d04e503144800bc34a0cc2e3e2b76"
            ]
          }
        },
        "962e58c150a94d0390b84c087388d144": {
          "model_module": "@jupyter-widgets/base",
          "model_name": "LayoutModel",
          "state": {
            "_view_name": "LayoutView",
            "grid_template_rows": null,
            "right": null,
            "justify_content": null,
            "_view_module": "@jupyter-widgets/base",
            "overflow": null,
            "_model_module_version": "1.2.0",
            "_view_count": null,
            "flex_flow": null,
            "width": null,
            "min_width": null,
            "border": null,
            "align_items": null,
            "bottom": null,
            "_model_module": "@jupyter-widgets/base",
            "top": null,
            "grid_column": null,
            "overflow_y": null,
            "overflow_x": null,
            "grid_auto_flow": null,
            "grid_area": null,
            "grid_template_columns": null,
            "flex": null,
            "_model_name": "LayoutModel",
            "justify_items": null,
            "grid_row": null,
            "max_height": null,
            "align_content": null,
            "visibility": null,
            "align_self": null,
            "height": null,
            "min_height": null,
            "padding": null,
            "grid_auto_rows": null,
            "grid_gap": null,
            "max_width": null,
            "order": null,
            "_view_module_version": "1.2.0",
            "grid_template_areas": null,
            "object_position": null,
            "object_fit": null,
            "grid_auto_columns": null,
            "margin": null,
            "display": null,
            "left": null
          }
        },
        "0ee61fc115cb46168385ba0940f0e495": {
          "model_module": "@jupyter-widgets/controls",
          "model_name": "FloatProgressModel",
          "state": {
            "_view_name": "ProgressView",
            "style": "IPY_MODEL_bfc0745bf2744e7f94c6ac92843e6947",
            "_dom_classes": [],
            "description": "Extraction completed...: 100%",
            "_model_name": "FloatProgressModel",
            "bar_style": "success",
            "max": 1,
            "_view_module": "@jupyter-widgets/controls",
            "_model_module_version": "1.5.0",
            "value": 1,
            "_view_count": null,
            "_view_module_version": "1.5.0",
            "orientation": "horizontal",
            "min": 0,
            "description_tooltip": null,
            "_model_module": "@jupyter-widgets/controls",
            "layout": "IPY_MODEL_3df64e402d7549478de8c74588609fbe"
          }
        },
        "7d6d04e503144800bc34a0cc2e3e2b76": {
          "model_module": "@jupyter-widgets/controls",
          "model_name": "HTMLModel",
          "state": {
            "_view_name": "HTMLView",
            "style": "IPY_MODEL_1cd6013527a748afb05fd6876e8c9cbe",
            "_dom_classes": [],
            "description": "",
            "_model_name": "HTMLModel",
            "placeholder": "​",
            "_view_module": "@jupyter-widgets/controls",
            "_model_module_version": "1.5.0",
            "value": " 2/2 [00:45&lt;00:00, 22.77s/ file]",
            "_view_count": null,
            "_view_module_version": "1.5.0",
            "description_tooltip": null,
            "_model_module": "@jupyter-widgets/controls",
            "layout": "IPY_MODEL_2ddcb45f5d9b458d9d819a4665ce68bc"
          }
        },
        "bfc0745bf2744e7f94c6ac92843e6947": {
          "model_module": "@jupyter-widgets/controls",
          "model_name": "ProgressStyleModel",
          "state": {
            "_view_name": "StyleView",
            "_model_name": "ProgressStyleModel",
            "description_width": "initial",
            "_view_module": "@jupyter-widgets/base",
            "_model_module_version": "1.5.0",
            "_view_count": null,
            "_view_module_version": "1.2.0",
            "bar_color": null,
            "_model_module": "@jupyter-widgets/controls"
          }
        },
        "3df64e402d7549478de8c74588609fbe": {
          "model_module": "@jupyter-widgets/base",
          "model_name": "LayoutModel",
          "state": {
            "_view_name": "LayoutView",
            "grid_template_rows": null,
            "right": null,
            "justify_content": null,
            "_view_module": "@jupyter-widgets/base",
            "overflow": null,
            "_model_module_version": "1.2.0",
            "_view_count": null,
            "flex_flow": null,
            "width": null,
            "min_width": null,
            "border": null,
            "align_items": null,
            "bottom": null,
            "_model_module": "@jupyter-widgets/base",
            "top": null,
            "grid_column": null,
            "overflow_y": null,
            "overflow_x": null,
            "grid_auto_flow": null,
            "grid_area": null,
            "grid_template_columns": null,
            "flex": null,
            "_model_name": "LayoutModel",
            "justify_items": null,
            "grid_row": null,
            "max_height": null,
            "align_content": null,
            "visibility": null,
            "align_self": null,
            "height": null,
            "min_height": null,
            "padding": null,
            "grid_auto_rows": null,
            "grid_gap": null,
            "max_width": null,
            "order": null,
            "_view_module_version": "1.2.0",
            "grid_template_areas": null,
            "object_position": null,
            "object_fit": null,
            "grid_auto_columns": null,
            "margin": null,
            "display": null,
            "left": null
          }
        },
        "1cd6013527a748afb05fd6876e8c9cbe": {
          "model_module": "@jupyter-widgets/controls",
          "model_name": "DescriptionStyleModel",
          "state": {
            "_view_name": "StyleView",
            "_model_name": "DescriptionStyleModel",
            "description_width": "",
            "_view_module": "@jupyter-widgets/base",
            "_model_module_version": "1.5.0",
            "_view_count": null,
            "_view_module_version": "1.2.0",
            "_model_module": "@jupyter-widgets/controls"
          }
        },
        "2ddcb45f5d9b458d9d819a4665ce68bc": {
          "model_module": "@jupyter-widgets/base",
          "model_name": "LayoutModel",
          "state": {
            "_view_name": "LayoutView",
            "grid_template_rows": null,
            "right": null,
            "justify_content": null,
            "_view_module": "@jupyter-widgets/base",
            "overflow": null,
            "_model_module_version": "1.2.0",
            "_view_count": null,
            "flex_flow": null,
            "width": null,
            "min_width": null,
            "border": null,
            "align_items": null,
            "bottom": null,
            "_model_module": "@jupyter-widgets/base",
            "top": null,
            "grid_column": null,
            "overflow_y": null,
            "overflow_x": null,
            "grid_auto_flow": null,
            "grid_area": null,
            "grid_template_columns": null,
            "flex": null,
            "_model_name": "LayoutModel",
            "justify_items": null,
            "grid_row": null,
            "max_height": null,
            "align_content": null,
            "visibility": null,
            "align_self": null,
            "height": null,
            "min_height": null,
            "padding": null,
            "grid_auto_rows": null,
            "grid_gap": null,
            "max_width": null,
            "order": null,
            "_view_module_version": "1.2.0",
            "grid_template_areas": null,
            "object_position": null,
            "object_fit": null,
            "grid_auto_columns": null,
            "margin": null,
            "display": null,
            "left": null
          }
        },
        "467898287fb24751abec3b254bcb4821": {
          "model_module": "@jupyter-widgets/controls",
          "model_name": "HBoxModel",
          "state": {
            "_view_name": "HBoxView",
            "_dom_classes": [],
            "_model_name": "HBoxModel",
            "_view_module": "@jupyter-widgets/controls",
            "_model_module_version": "1.5.0",
            "_view_count": null,
            "_view_module_version": "1.5.0",
            "box_style": "",
            "layout": "IPY_MODEL_ba5435376da84625ad8b21b8bbb9ee21",
            "_model_module": "@jupyter-widgets/controls",
            "children": [
              "IPY_MODEL_b9b4cba3391f475fb4d3e678ae0998e0",
              "IPY_MODEL_da910146a8054afc9ee1813e15efc9f7"
            ]
          }
        },
        "ba5435376da84625ad8b21b8bbb9ee21": {
          "model_module": "@jupyter-widgets/base",
          "model_name": "LayoutModel",
          "state": {
            "_view_name": "LayoutView",
            "grid_template_rows": null,
            "right": null,
            "justify_content": null,
            "_view_module": "@jupyter-widgets/base",
            "overflow": null,
            "_model_module_version": "1.2.0",
            "_view_count": null,
            "flex_flow": null,
            "width": null,
            "min_width": null,
            "border": null,
            "align_items": null,
            "bottom": null,
            "_model_module": "@jupyter-widgets/base",
            "top": null,
            "grid_column": null,
            "overflow_y": null,
            "overflow_x": null,
            "grid_auto_flow": null,
            "grid_area": null,
            "grid_template_columns": null,
            "flex": null,
            "_model_name": "LayoutModel",
            "justify_items": null,
            "grid_row": null,
            "max_height": null,
            "align_content": null,
            "visibility": null,
            "align_self": null,
            "height": null,
            "min_height": null,
            "padding": null,
            "grid_auto_rows": null,
            "grid_gap": null,
            "max_width": null,
            "order": null,
            "_view_module_version": "1.2.0",
            "grid_template_areas": null,
            "object_position": null,
            "object_fit": null,
            "grid_auto_columns": null,
            "margin": null,
            "display": null,
            "left": null
          }
        },
        "b9b4cba3391f475fb4d3e678ae0998e0": {
          "model_module": "@jupyter-widgets/controls",
          "model_name": "FloatProgressModel",
          "state": {
            "_view_name": "ProgressView",
            "style": "IPY_MODEL_d4662d8fda7e43f0b00fa13cd869df67",
            "_dom_classes": [],
            "description": "",
            "_model_name": "FloatProgressModel",
            "bar_style": "info",
            "max": 1,
            "_view_module": "@jupyter-widgets/controls",
            "_model_module_version": "1.5.0",
            "value": 1,
            "_view_count": null,
            "_view_module_version": "1.5.0",
            "orientation": "horizontal",
            "min": 0,
            "description_tooltip": null,
            "_model_module": "@jupyter-widgets/controls",
            "layout": "IPY_MODEL_566bbd7525794a5fa3216d2f223f678c"
          }
        },
        "da910146a8054afc9ee1813e15efc9f7": {
          "model_module": "@jupyter-widgets/controls",
          "model_name": "HTMLModel",
          "state": {
            "_view_name": "HTMLView",
            "style": "IPY_MODEL_1cba1b67d259459cac4cc86dca1f4477",
            "_dom_classes": [],
            "description": "",
            "_model_name": "HTMLModel",
            "placeholder": "​",
            "_view_module": "@jupyter-widgets/controls",
            "_model_module_version": "1.5.0",
            "value": " 3680/0 [00:02&lt;00:00, 1308.35 examples/s]",
            "_view_count": null,
            "_view_module_version": "1.5.0",
            "description_tooltip": null,
            "_model_module": "@jupyter-widgets/controls",
            "layout": "IPY_MODEL_a032f04afc0f4ed3bb2e347ad6d2eb70"
          }
        },
        "d4662d8fda7e43f0b00fa13cd869df67": {
          "model_module": "@jupyter-widgets/controls",
          "model_name": "ProgressStyleModel",
          "state": {
            "_view_name": "StyleView",
            "_model_name": "ProgressStyleModel",
            "description_width": "initial",
            "_view_module": "@jupyter-widgets/base",
            "_model_module_version": "1.5.0",
            "_view_count": null,
            "_view_module_version": "1.2.0",
            "bar_color": null,
            "_model_module": "@jupyter-widgets/controls"
          }
        },
        "566bbd7525794a5fa3216d2f223f678c": {
          "model_module": "@jupyter-widgets/base",
          "model_name": "LayoutModel",
          "state": {
            "_view_name": "LayoutView",
            "grid_template_rows": null,
            "right": null,
            "justify_content": null,
            "_view_module": "@jupyter-widgets/base",
            "overflow": null,
            "_model_module_version": "1.2.0",
            "_view_count": null,
            "flex_flow": null,
            "width": null,
            "min_width": null,
            "border": null,
            "align_items": null,
            "bottom": null,
            "_model_module": "@jupyter-widgets/base",
            "top": null,
            "grid_column": null,
            "overflow_y": null,
            "overflow_x": null,
            "grid_auto_flow": null,
            "grid_area": null,
            "grid_template_columns": null,
            "flex": null,
            "_model_name": "LayoutModel",
            "justify_items": null,
            "grid_row": null,
            "max_height": null,
            "align_content": null,
            "visibility": null,
            "align_self": null,
            "height": null,
            "min_height": null,
            "padding": null,
            "grid_auto_rows": null,
            "grid_gap": null,
            "max_width": null,
            "order": null,
            "_view_module_version": "1.2.0",
            "grid_template_areas": null,
            "object_position": null,
            "object_fit": null,
            "grid_auto_columns": null,
            "margin": null,
            "display": null,
            "left": null
          }
        },
        "1cba1b67d259459cac4cc86dca1f4477": {
          "model_module": "@jupyter-widgets/controls",
          "model_name": "DescriptionStyleModel",
          "state": {
            "_view_name": "StyleView",
            "_model_name": "DescriptionStyleModel",
            "description_width": "",
            "_view_module": "@jupyter-widgets/base",
            "_model_module_version": "1.5.0",
            "_view_count": null,
            "_view_module_version": "1.2.0",
            "_model_module": "@jupyter-widgets/controls"
          }
        },
        "a032f04afc0f4ed3bb2e347ad6d2eb70": {
          "model_module": "@jupyter-widgets/base",
          "model_name": "LayoutModel",
          "state": {
            "_view_name": "LayoutView",
            "grid_template_rows": null,
            "right": null,
            "justify_content": null,
            "_view_module": "@jupyter-widgets/base",
            "overflow": null,
            "_model_module_version": "1.2.0",
            "_view_count": null,
            "flex_flow": null,
            "width": null,
            "min_width": null,
            "border": null,
            "align_items": null,
            "bottom": null,
            "_model_module": "@jupyter-widgets/base",
            "top": null,
            "grid_column": null,
            "overflow_y": null,
            "overflow_x": null,
            "grid_auto_flow": null,
            "grid_area": null,
            "grid_template_columns": null,
            "flex": null,
            "_model_name": "LayoutModel",
            "justify_items": null,
            "grid_row": null,
            "max_height": null,
            "align_content": null,
            "visibility": null,
            "align_self": null,
            "height": null,
            "min_height": null,
            "padding": null,
            "grid_auto_rows": null,
            "grid_gap": null,
            "max_width": null,
            "order": null,
            "_view_module_version": "1.2.0",
            "grid_template_areas": null,
            "object_position": null,
            "object_fit": null,
            "grid_auto_columns": null,
            "margin": null,
            "display": null,
            "left": null
          }
        }
      }
    }
  },
  "cells": [
    {
      "cell_type": "markdown",
      "metadata": {
        "id": "view-in-github",
        "colab_type": "text"
      },
      "source": [
        "<a href=\"https://colab.research.google.com/github/raziyebadpa/myclass_new/blob/main/Copy_of_Vision_Transformer_AugReg.ipynb\" target=\"_parent\"><img src=\"https://colab.research.google.com/assets/colab-badge.svg\" alt=\"Open In Colab\"/></a>"
      ]
    },
    {
      "cell_type": "markdown",
      "metadata": {
        "id": "sXhZm0kpPpH6"
      },
      "source": [
        "##### Copyright 2021 Google LLC."
      ]
    },
    {
      "cell_type": "code",
      "metadata": {
        "cellView": "form",
        "id": "KfmzfvFxPuk7"
      },
      "source": [
        "#@title Licensed under the Apache License, Version 2.0 (the \"License\");\n",
        "# Licensed under the Apache License, Version 2.0 (the \"License\");\n",
        "# you may not use this file except in compliance with the License.\n",
        "# You may obtain a copy of the License at\n",
        "#\n",
        "# https://www.apache.org/licenses/LICENSE-2.0\n",
        "#\n",
        "# Unless required by applicable law or agreed to in writing, software\n",
        "# distributed under the License is distributed on an \"AS IS\" BASIS,\n",
        "# WITHOUT WARRANTIES OR CONDITIONS OF ANY KIND, either express or implied.\n",
        "# See the License for the specific language governing permissions and\n",
        "# limitations under the License."
      ],
      "execution_count": null,
      "outputs": []
    },
    {
      "cell_type": "markdown",
      "metadata": {
        "id": "iOVCm4CnP1Do"
      },
      "source": [
        "<a href=\"https://colab.research.google.com/github/google-research/vision_transformer/blob/master/vit_jax_augreg.ipynb\" target=\"_parent\"><img src=\"https://colab.research.google.com/assets/colab-badge.svg\" alt=\"Open In Colab\"/></a>"
      ]
    },
    {
      "cell_type": "markdown",
      "metadata": {
        "id": "8dkWVp5qbziu"
      },
      "source": [
        "## How to train your ViT? Data, Augmentation, and Regularization in Vision Transformers"
      ]
    },
    {
      "cell_type": "markdown",
      "metadata": {
        "id": "ofwi7yvlx5hj"
      },
      "source": [
        "Model repository published with the paper\n",
        "\n",
        "[**How to train your ViT? Data, Augmentation, and Regularization in Vision\n",
        "Transformers**](https://arxiv.org/abs/TODO)\n",
        "\n",
        "This Colab shows how to\n",
        "[find checkpoints](#scrollTo=F4SLGDtFxlsC)\n",
        "in the repository, how to\n",
        "[select and load a model](#scrollTo=wh_SLkQtQ6K4)\n",
        "form the repository and use it for inference\n",
        "([also with PyTorch](#scrollTo=1nMyWmDycpAo)),\n",
        "and how to\n",
        "[fine-tune on a dataset](#scrollTo=iAruT3YOxqB6).\n",
        "\n",
        "For more details, please refer to the repository:\n",
        "\n",
        "https://github.com/google-research/vision_transformer/\n",
        "\n",
        "Note that this Colab directly uses the unmodified code from the repository. If\n",
        "you want to modify the modules and persist your changes, you can do all that\n",
        "using free GPUs and TPUs without leaving the Colab environment - see\n",
        "\n",
        "https://colab.research.google.com/github/google-research/vision_transformer/blob/master/vit_jax.ipynb"
      ]
    },
    {
      "cell_type": "markdown",
      "metadata": {
        "id": "LPNkX_dfCNog"
      },
      "source": [
        "### Imports"
      ]
    },
    {
      "cell_type": "code",
      "metadata": {
        "colab": {
          "base_uri": "https://localhost:8080/"
        },
        "id": "_ihyJdwbCVmW",
        "outputId": "e5c6b809-a8dd-4930-c94a-a66d753a00cc"
      },
      "source": [
        "# Fetch vision_transformer repository.\n",
        "![ -d vision_transformer ] || git clone --depth=1 https://github.com/google-research/vision_transformer\n"
      ],
      "execution_count": null,
      "outputs": [
        {
          "output_type": "stream",
          "text": [
            "Cloning into 'vision_transformer'...\n",
            "remote: Enumerating objects: 37, done.\u001b[K\n",
            "remote: Counting objects: 100% (37/37), done.\u001b[K\n",
            "remote: Compressing objects: 100% (34/34), done.\u001b[K\n",
            "remote: Total 37 (delta 4), reused 15 (delta 1), pack-reused 0\u001b[K\n",
            "Unpacking objects: 100% (37/37), done.\n"
          ],
          "name": "stdout"
        }
      ]
    },
    {
      "cell_type": "code",
      "metadata": {
        "colab": {
          "base_uri": "https://localhost:8080/"
        },
        "id": "__7nV7c6C4Zn",
        "outputId": "3d98b264-488b-49e2-bdc6-6db2768b063d"
      },
      "source": [
        "# Install dependencies.\n",
        "!pip install -qr vision_transformer/vit_jax/requirements.txt"
      ],
      "execution_count": null,
      "outputs": [
        {
          "output_type": "stream",
          "text": [
            "\u001b[K     |████████████████████████████████| 61kB 5.1MB/s \n",
            "\u001b[K     |████████████████████████████████| 81kB 10.5MB/s \n",
            "\u001b[K     |████████████████████████████████| 184kB 43.1MB/s \n",
            "\u001b[K     |████████████████████████████████| 92kB 12.4MB/s \n",
            "\u001b[K     |████████████████████████████████| 168.3MB 71kB/s \n",
            "\u001b[?25h"
          ],
          "name": "stdout"
        }
      ]
    },
    {
      "cell_type": "code",
      "metadata": {
        "id": "R9VrgMtUC2w-"
      },
      "source": [
        "# Import files from repository.\n",
        "\n",
        "import sys\n",
        "if './vision_transformer' not in sys.path:\n",
        "  sys.path.append('./vision_transformer')\n",
        "\n",
        "%load_ext autoreload\n",
        "%autoreload 2\n",
        "\n",
        "from vit_jax import checkpoint\n",
        "from vit_jax import models\n",
        "from vit_jax import train\n",
        "from vit_jax.configs import augreg as augreg_config\n",
        "from vit_jax.configs import models as models_config"
      ],
      "execution_count": null,
      "outputs": []
    },
    {
      "cell_type": "code",
      "metadata": {
        "colab": {
          "base_uri": "https://localhost:8080/"
        },
        "id": "MpYDX1idbVxq",
        "outputId": "45d16618-698a-4429-9a57-cadab1eec16d"
      },
      "source": [
        "# Connect to TPUs if runtime type is of type TPU.\n",
        "\n",
        "import os\n",
        "if 'google.colab' in str(get_ipython()) and 'COLAB_TPU_ADDR' in os.environ:\n",
        "  import jax\n",
        "  import jax.tools.colab_tpu\n",
        "  jax.tools.colab_tpu.setup_tpu()\n",
        "  print('Connected to TPU.')\n",
        "else:\n",
        "  # Otherwise print information about GPU.\n",
        "  !nvidia-smi"
      ],
      "execution_count": null,
      "outputs": [
        {
          "output_type": "stream",
          "text": [
            "Sun Jul 18 18:36:18 2021       \n",
            "+-----------------------------------------------------------------------------+\n",
            "| NVIDIA-SMI 470.42.01    Driver Version: 460.32.03    CUDA Version: 11.2     |\n",
            "|-------------------------------+----------------------+----------------------+\n",
            "| GPU  Name        Persistence-M| Bus-Id        Disp.A | Volatile Uncorr. ECC |\n",
            "| Fan  Temp  Perf  Pwr:Usage/Cap|         Memory-Usage | GPU-Util  Compute M. |\n",
            "|                               |                      |               MIG M. |\n",
            "|===============================+======================+======================|\n",
            "|   0  Tesla T4            Off  | 00000000:00:04.0 Off |                    0 |\n",
            "| N/A   63C    P8    10W /  70W |      0MiB / 15109MiB |      0%      Default |\n",
            "|                               |                      |                  N/A |\n",
            "+-------------------------------+----------------------+----------------------+\n",
            "                                                                               \n",
            "+-----------------------------------------------------------------------------+\n",
            "| Processes:                                                                  |\n",
            "|  GPU   GI   CI        PID   Type   Process name                  GPU Memory |\n",
            "|        ID   ID                                                   Usage      |\n",
            "|=============================================================================|\n",
            "|  No running processes found                                                 |\n",
            "+-----------------------------------------------------------------------------+\n"
          ],
          "name": "stdout"
        }
      ]
    },
    {
      "cell_type": "code",
      "metadata": {
        "id": "6xTeXue8DfwL"
      },
      "source": [
        "# Some more imports used in this Colab.\n",
        "\n",
        "import glob\n",
        "import os\n",
        "import random\n",
        "import shutil\n",
        "import time\n",
        "\n",
        "from absl import logging\n",
        "import pandas as pd\n",
        "import seaborn as sns\n",
        "import tensorflow as tf\n",
        "import tensorflow_datasets as tfds\n",
        "from matplotlib import pyplot as plt\n",
        "\n",
        "pd.options.display.max_colwidth = None\n",
        "logging.set_verbosity(logging.INFO)  # Shows logs during training."
      ],
      "execution_count": null,
      "outputs": []
    },
    {
      "cell_type": "markdown",
      "metadata": {
        "id": "F4SLGDtFxlsC"
      },
      "source": [
        "### Explore checkpoints\n",
        "\n",
        "This section contains shows how to use the `index.csv` table for model\n",
        "selection.\n",
        "\n",
        "See\n",
        "[`vit_jax.checkpoint.get_augreg_df()`](https://github.com/google-research/vision_transformer/blob/ed1491238f5ff6099cca81087c575a215281ed14/vit_jax/checkpoint.py#L181-L228)\n",
        "for a detailed description of the individual columns"
      ]
    },
    {
      "cell_type": "code",
      "metadata": {
        "id": "yy-cuGxyD6Xw"
      },
      "source": [
        "# Load master table from Cloud.\n",
        "with tf.io.gfile.GFile('gs://vit_models/augreg/index.csv') as f:\n",
        "  df = pd.read_csv(f)"
      ],
      "execution_count": null,
      "outputs": []
    },
    {
      "cell_type": "code",
      "metadata": {
        "colab": {
          "base_uri": "https://localhost:8080/"
        },
        "id": "j8iAESfDKCQS",
        "outputId": "9c7f3747-9c53-4d51-eb71-6ee8d812f337"
      },
      "source": [
        "# This is a pretty large table with lots of columns:\n",
        "print(f'loaded {len(df):,} rows')\n",
        "df.columns"
      ],
      "execution_count": null,
      "outputs": [
        {
          "output_type": "stream",
          "text": [
            "loaded 51,407 rows\n"
          ],
          "name": "stdout"
        },
        {
          "output_type": "execute_result",
          "data": {
            "text/plain": [
              "Index(['name', 'ds', 'epochs', 'lr', 'aug', 'wd', 'do', 'sd', 'best_val',\n",
              "       'final_val', 'final_test', 'adapt_ds', 'adapt_lr', 'adapt_steps',\n",
              "       'adapt_resolution', 'adapt_final_val', 'adapt_final_test', 'params',\n",
              "       'infer_samples_per_sec', 'filename', 'adapt_filename'],\n",
              "      dtype='object')"
            ]
          },
          "metadata": {
            "tags": []
          },
          "execution_count": 8
        }
      ]
    },
    {
      "cell_type": "code",
      "metadata": {
        "colab": {
          "base_uri": "https://localhost:8080/"
        },
        "id": "Wi4CwizkKIx_",
        "outputId": "798afc2d-d703-4ccf-9a39-67ab1fff5021"
      },
      "source": [
        "# Number of distinct checkpoints\n",
        "len(tf.io.gfile.glob('gs://vit_models/augreg/*.npz'))"
      ],
      "execution_count": null,
      "outputs": [
        {
          "output_type": "execute_result",
          "data": {
            "text/plain": [
              "52163"
            ]
          },
          "metadata": {
            "tags": []
          },
          "execution_count": 9
        }
      ]
    },
    {
      "cell_type": "code",
      "metadata": {
        "colab": {
          "base_uri": "https://localhost:8080/"
        },
        "id": "FOM3HkkbKPdk",
        "outputId": "68580725-5da6-427a-8a91-45474ef7a760"
      },
      "source": [
        "# Any column prefixed with \"adapt_\" pertains to the fine-tuned checkpoints.\n",
        "# Any column without that prefix pertains to the pre-trained checkpoints.\n",
        "len(set(df.filename)), len(set(df.adapt_filename))"
      ],
      "execution_count": null,
      "outputs": [
        {
          "output_type": "execute_result",
          "data": {
            "text/plain": [
              "(756, 51407)"
            ]
          },
          "metadata": {
            "tags": []
          },
          "execution_count": 10
        }
      ]
    },
    {
      "cell_type": "code",
      "metadata": {
        "colab": {
          "base_uri": "https://localhost:8080/",
          "height": 348
        },
        "id": "w38Gjj-SGLVu",
        "outputId": "8edddf88-d164-430d-c8dd-02fe2b00b223"
      },
      "source": [
        "# Upstream AugReg parameters (section 3.3):\n",
        "(\n",
        "df.groupby(['ds', 'name', 'wd', 'do', 'sd', 'aug']).filename\n",
        "  .count().unstack().unstack().unstack()\n",
        "  .dropna(1, 'all').astype(int)\n",
        "  .iloc[:7]  # Just show beginning of a long table.\n",
        ")"
      ],
      "execution_count": null,
      "outputs": [
        {
          "output_type": "execute_result",
          "data": {
            "text/html": [
              "<div>\n",
              "<style scoped>\n",
              "    .dataframe tbody tr th:only-of-type {\n",
              "        vertical-align: middle;\n",
              "    }\n",
              "\n",
              "    .dataframe tbody tr th {\n",
              "        vertical-align: top;\n",
              "    }\n",
              "\n",
              "    .dataframe thead tr th {\n",
              "        text-align: left;\n",
              "    }\n",
              "\n",
              "    .dataframe thead tr:last-of-type th {\n",
              "        text-align: right;\n",
              "    }\n",
              "</style>\n",
              "<table border=\"1\" class=\"dataframe\">\n",
              "  <thead>\n",
              "    <tr>\n",
              "      <th></th>\n",
              "      <th></th>\n",
              "      <th>aug</th>\n",
              "      <th colspan=\"2\" halign=\"left\">light0</th>\n",
              "      <th colspan=\"2\" halign=\"left\">light1</th>\n",
              "      <th colspan=\"2\" halign=\"left\">medium1</th>\n",
              "      <th colspan=\"2\" halign=\"left\">medium2</th>\n",
              "      <th colspan=\"2\" halign=\"left\">none</th>\n",
              "      <th colspan=\"2\" halign=\"left\">strong1</th>\n",
              "      <th colspan=\"2\" halign=\"left\">strong2</th>\n",
              "    </tr>\n",
              "    <tr>\n",
              "      <th></th>\n",
              "      <th></th>\n",
              "      <th>sd</th>\n",
              "      <th>0.0</th>\n",
              "      <th>0.1</th>\n",
              "      <th>0.0</th>\n",
              "      <th>0.1</th>\n",
              "      <th>0.0</th>\n",
              "      <th>0.1</th>\n",
              "      <th>0.0</th>\n",
              "      <th>0.1</th>\n",
              "      <th>0.0</th>\n",
              "      <th>0.1</th>\n",
              "      <th>0.0</th>\n",
              "      <th>0.1</th>\n",
              "      <th>0.0</th>\n",
              "      <th>0.1</th>\n",
              "    </tr>\n",
              "    <tr>\n",
              "      <th></th>\n",
              "      <th></th>\n",
              "      <th>do</th>\n",
              "      <th>0.0</th>\n",
              "      <th>0.1</th>\n",
              "      <th>0.0</th>\n",
              "      <th>0.1</th>\n",
              "      <th>0.0</th>\n",
              "      <th>0.1</th>\n",
              "      <th>0.0</th>\n",
              "      <th>0.1</th>\n",
              "      <th>0.0</th>\n",
              "      <th>0.1</th>\n",
              "      <th>0.0</th>\n",
              "      <th>0.1</th>\n",
              "      <th>0.0</th>\n",
              "      <th>0.1</th>\n",
              "    </tr>\n",
              "    <tr>\n",
              "      <th>ds</th>\n",
              "      <th>name</th>\n",
              "      <th>wd</th>\n",
              "      <th></th>\n",
              "      <th></th>\n",
              "      <th></th>\n",
              "      <th></th>\n",
              "      <th></th>\n",
              "      <th></th>\n",
              "      <th></th>\n",
              "      <th></th>\n",
              "      <th></th>\n",
              "      <th></th>\n",
              "      <th></th>\n",
              "      <th></th>\n",
              "      <th></th>\n",
              "      <th></th>\n",
              "    </tr>\n",
              "  </thead>\n",
              "  <tbody>\n",
              "    <tr>\n",
              "      <th rowspan=\"7\" valign=\"top\">i1k</th>\n",
              "      <th rowspan=\"2\" valign=\"top\">B/16</th>\n",
              "      <th>0.03</th>\n",
              "      <td>68</td>\n",
              "      <td>68</td>\n",
              "      <td>68</td>\n",
              "      <td>68</td>\n",
              "      <td>68</td>\n",
              "      <td>68</td>\n",
              "      <td>68</td>\n",
              "      <td>68</td>\n",
              "      <td>68</td>\n",
              "      <td>68</td>\n",
              "      <td>68</td>\n",
              "      <td>68</td>\n",
              "      <td>68</td>\n",
              "      <td>68</td>\n",
              "    </tr>\n",
              "    <tr>\n",
              "      <th>0.10</th>\n",
              "      <td>68</td>\n",
              "      <td>68</td>\n",
              "      <td>68</td>\n",
              "      <td>68</td>\n",
              "      <td>68</td>\n",
              "      <td>68</td>\n",
              "      <td>68</td>\n",
              "      <td>68</td>\n",
              "      <td>68</td>\n",
              "      <td>68</td>\n",
              "      <td>68</td>\n",
              "      <td>68</td>\n",
              "      <td>68</td>\n",
              "      <td>68</td>\n",
              "    </tr>\n",
              "    <tr>\n",
              "      <th rowspan=\"2\" valign=\"top\">B/32</th>\n",
              "      <th>0.03</th>\n",
              "      <td>68</td>\n",
              "      <td>68</td>\n",
              "      <td>68</td>\n",
              "      <td>68</td>\n",
              "      <td>68</td>\n",
              "      <td>68</td>\n",
              "      <td>68</td>\n",
              "      <td>68</td>\n",
              "      <td>68</td>\n",
              "      <td>68</td>\n",
              "      <td>68</td>\n",
              "      <td>68</td>\n",
              "      <td>68</td>\n",
              "      <td>68</td>\n",
              "    </tr>\n",
              "    <tr>\n",
              "      <th>0.10</th>\n",
              "      <td>68</td>\n",
              "      <td>68</td>\n",
              "      <td>68</td>\n",
              "      <td>68</td>\n",
              "      <td>68</td>\n",
              "      <td>68</td>\n",
              "      <td>68</td>\n",
              "      <td>68</td>\n",
              "      <td>68</td>\n",
              "      <td>68</td>\n",
              "      <td>68</td>\n",
              "      <td>68</td>\n",
              "      <td>68</td>\n",
              "      <td>68</td>\n",
              "    </tr>\n",
              "    <tr>\n",
              "      <th rowspan=\"2\" valign=\"top\">L/16</th>\n",
              "      <th>0.03</th>\n",
              "      <td>68</td>\n",
              "      <td>68</td>\n",
              "      <td>68</td>\n",
              "      <td>68</td>\n",
              "      <td>68</td>\n",
              "      <td>68</td>\n",
              "      <td>68</td>\n",
              "      <td>68</td>\n",
              "      <td>68</td>\n",
              "      <td>68</td>\n",
              "      <td>68</td>\n",
              "      <td>68</td>\n",
              "      <td>68</td>\n",
              "      <td>68</td>\n",
              "    </tr>\n",
              "    <tr>\n",
              "      <th>0.10</th>\n",
              "      <td>68</td>\n",
              "      <td>68</td>\n",
              "      <td>68</td>\n",
              "      <td>68</td>\n",
              "      <td>68</td>\n",
              "      <td>68</td>\n",
              "      <td>68</td>\n",
              "      <td>68</td>\n",
              "      <td>68</td>\n",
              "      <td>68</td>\n",
              "      <td>68</td>\n",
              "      <td>68</td>\n",
              "      <td>68</td>\n",
              "      <td>68</td>\n",
              "    </tr>\n",
              "    <tr>\n",
              "      <th>R+Ti/16</th>\n",
              "      <th>0.03</th>\n",
              "      <td>68</td>\n",
              "      <td>68</td>\n",
              "      <td>68</td>\n",
              "      <td>68</td>\n",
              "      <td>68</td>\n",
              "      <td>68</td>\n",
              "      <td>68</td>\n",
              "      <td>68</td>\n",
              "      <td>68</td>\n",
              "      <td>68</td>\n",
              "      <td>68</td>\n",
              "      <td>68</td>\n",
              "      <td>68</td>\n",
              "      <td>68</td>\n",
              "    </tr>\n",
              "  </tbody>\n",
              "</table>\n",
              "</div>"
            ],
            "text/plain": [
              "aug              light0     light1     medium1  ... none strong1     strong2    \n",
              "sd                  0.0 0.1    0.0 0.1     0.0  ...  0.1     0.0 0.1     0.0 0.1\n",
              "do                  0.0 0.1    0.0 0.1     0.0  ...  0.1     0.0 0.1     0.0 0.1\n",
              "ds  name    wd                                  ...                             \n",
              "i1k B/16    0.03     68  68     68  68      68  ...   68      68  68      68  68\n",
              "            0.10     68  68     68  68      68  ...   68      68  68      68  68\n",
              "    B/32    0.03     68  68     68  68      68  ...   68      68  68      68  68\n",
              "            0.10     68  68     68  68      68  ...   68      68  68      68  68\n",
              "    L/16    0.03     68  68     68  68      68  ...   68      68  68      68  68\n",
              "            0.10     68  68     68  68      68  ...   68      68  68      68  68\n",
              "    R+Ti/16 0.03     68  68     68  68      68  ...   68      68  68      68  68\n",
              "\n",
              "[7 rows x 14 columns]"
            ]
          },
          "metadata": {
            "tags": []
          },
          "execution_count": 11
        }
      ]
    },
    {
      "cell_type": "code",
      "metadata": {
        "colab": {
          "base_uri": "https://localhost:8080/",
          "height": 428
        },
        "id": "PjI5jX36GeFr",
        "outputId": "8da5649e-b0ef-488a-d640-088250dfa31c"
      },
      "source": [
        "# Downstream parameters (table 4)\n",
        "(\n",
        "df.groupby(['adapt_resolution', 'adapt_ds', 'adapt_lr', 'adapt_steps']).filename\n",
        "  .count().astype(str).unstack().unstack()\n",
        "  .dropna(1, 'all').fillna('')\n",
        ")"
      ],
      "execution_count": null,
      "outputs": [
        {
          "output_type": "execute_result",
          "data": {
            "text/html": [
              "<div>\n",
              "<style scoped>\n",
              "    .dataframe tbody tr th:only-of-type {\n",
              "        vertical-align: middle;\n",
              "    }\n",
              "\n",
              "    .dataframe tbody tr th {\n",
              "        vertical-align: top;\n",
              "    }\n",
              "\n",
              "    .dataframe thead tr th {\n",
              "        text-align: left;\n",
              "    }\n",
              "\n",
              "    .dataframe thead tr:last-of-type th {\n",
              "        text-align: right;\n",
              "    }\n",
              "</style>\n",
              "<table border=\"1\" class=\"dataframe\">\n",
              "  <thead>\n",
              "    <tr>\n",
              "      <th></th>\n",
              "      <th>adapt_steps</th>\n",
              "      <th colspan=\"4\" halign=\"left\">500</th>\n",
              "      <th colspan=\"4\" halign=\"left\">2500</th>\n",
              "      <th colspan=\"4\" halign=\"left\">10000</th>\n",
              "      <th colspan=\"2\" halign=\"left\">20000</th>\n",
              "    </tr>\n",
              "    <tr>\n",
              "      <th></th>\n",
              "      <th>adapt_lr</th>\n",
              "      <th>0.001</th>\n",
              "      <th>0.003</th>\n",
              "      <th>0.010</th>\n",
              "      <th>0.030</th>\n",
              "      <th>0.001</th>\n",
              "      <th>0.003</th>\n",
              "      <th>0.010</th>\n",
              "      <th>0.030</th>\n",
              "      <th>0.001</th>\n",
              "      <th>0.003</th>\n",
              "      <th>0.010</th>\n",
              "      <th>0.030</th>\n",
              "      <th>0.010</th>\n",
              "      <th>0.030</th>\n",
              "    </tr>\n",
              "    <tr>\n",
              "      <th>adapt_resolution</th>\n",
              "      <th>adapt_ds</th>\n",
              "      <th></th>\n",
              "      <th></th>\n",
              "      <th></th>\n",
              "      <th></th>\n",
              "      <th></th>\n",
              "      <th></th>\n",
              "      <th></th>\n",
              "      <th></th>\n",
              "      <th></th>\n",
              "      <th></th>\n",
              "      <th></th>\n",
              "      <th></th>\n",
              "      <th></th>\n",
              "      <th></th>\n",
              "    </tr>\n",
              "  </thead>\n",
              "  <tbody>\n",
              "    <tr>\n",
              "      <th rowspan=\"5\" valign=\"top\">224</th>\n",
              "      <th>cifar100</th>\n",
              "      <td></td>\n",
              "      <td></td>\n",
              "      <td></td>\n",
              "      <td></td>\n",
              "      <td>756</td>\n",
              "      <td>756</td>\n",
              "      <td>756</td>\n",
              "      <td>756</td>\n",
              "      <td>756</td>\n",
              "      <td>756</td>\n",
              "      <td>756</td>\n",
              "      <td>756</td>\n",
              "      <td></td>\n",
              "      <td></td>\n",
              "    </tr>\n",
              "    <tr>\n",
              "      <th>imagenet2012</th>\n",
              "      <td></td>\n",
              "      <td></td>\n",
              "      <td></td>\n",
              "      <td></td>\n",
              "      <td></td>\n",
              "      <td></td>\n",
              "      <td></td>\n",
              "      <td></td>\n",
              "      <td></td>\n",
              "      <td></td>\n",
              "      <td></td>\n",
              "      <td></td>\n",
              "      <td>756</td>\n",
              "      <td>756</td>\n",
              "    </tr>\n",
              "    <tr>\n",
              "      <th>kitti</th>\n",
              "      <td>756</td>\n",
              "      <td>756</td>\n",
              "      <td>756</td>\n",
              "      <td>756</td>\n",
              "      <td>756</td>\n",
              "      <td>756</td>\n",
              "      <td>756</td>\n",
              "      <td>756</td>\n",
              "      <td></td>\n",
              "      <td></td>\n",
              "      <td></td>\n",
              "      <td></td>\n",
              "      <td></td>\n",
              "      <td></td>\n",
              "    </tr>\n",
              "    <tr>\n",
              "      <th>oxford_iiit_pet</th>\n",
              "      <td>756</td>\n",
              "      <td>756</td>\n",
              "      <td>756</td>\n",
              "      <td>756</td>\n",
              "      <td>756</td>\n",
              "      <td>756</td>\n",
              "      <td>756</td>\n",
              "      <td>756</td>\n",
              "      <td></td>\n",
              "      <td></td>\n",
              "      <td></td>\n",
              "      <td></td>\n",
              "      <td></td>\n",
              "      <td></td>\n",
              "    </tr>\n",
              "    <tr>\n",
              "      <th>resisc45</th>\n",
              "      <td></td>\n",
              "      <td></td>\n",
              "      <td></td>\n",
              "      <td></td>\n",
              "      <td>756</td>\n",
              "      <td>756</td>\n",
              "      <td>756</td>\n",
              "      <td>756</td>\n",
              "      <td>756</td>\n",
              "      <td>756</td>\n",
              "      <td>756</td>\n",
              "      <td>756</td>\n",
              "      <td></td>\n",
              "      <td></td>\n",
              "    </tr>\n",
              "    <tr>\n",
              "      <th rowspan=\"5\" valign=\"top\">384</th>\n",
              "      <th>cifar100</th>\n",
              "      <td></td>\n",
              "      <td></td>\n",
              "      <td></td>\n",
              "      <td></td>\n",
              "      <td>756</td>\n",
              "      <td>756</td>\n",
              "      <td>756</td>\n",
              "      <td>756</td>\n",
              "      <td>756</td>\n",
              "      <td>756</td>\n",
              "      <td>756</td>\n",
              "      <td>756</td>\n",
              "      <td></td>\n",
              "      <td></td>\n",
              "    </tr>\n",
              "    <tr>\n",
              "      <th>imagenet2012</th>\n",
              "      <td></td>\n",
              "      <td></td>\n",
              "      <td></td>\n",
              "      <td></td>\n",
              "      <td></td>\n",
              "      <td></td>\n",
              "      <td></td>\n",
              "      <td></td>\n",
              "      <td></td>\n",
              "      <td></td>\n",
              "      <td></td>\n",
              "      <td></td>\n",
              "      <td>756</td>\n",
              "      <td>755</td>\n",
              "    </tr>\n",
              "    <tr>\n",
              "      <th>kitti</th>\n",
              "      <td>756</td>\n",
              "      <td>756</td>\n",
              "      <td>756</td>\n",
              "      <td>756</td>\n",
              "      <td>756</td>\n",
              "      <td>756</td>\n",
              "      <td>756</td>\n",
              "      <td>756</td>\n",
              "      <td></td>\n",
              "      <td></td>\n",
              "      <td></td>\n",
              "      <td></td>\n",
              "      <td></td>\n",
              "      <td></td>\n",
              "    </tr>\n",
              "    <tr>\n",
              "      <th>oxford_iiit_pet</th>\n",
              "      <td>756</td>\n",
              "      <td>756</td>\n",
              "      <td>756</td>\n",
              "      <td>756</td>\n",
              "      <td>756</td>\n",
              "      <td>756</td>\n",
              "      <td>756</td>\n",
              "      <td>756</td>\n",
              "      <td></td>\n",
              "      <td></td>\n",
              "      <td></td>\n",
              "      <td></td>\n",
              "      <td></td>\n",
              "      <td></td>\n",
              "    </tr>\n",
              "    <tr>\n",
              "      <th>resisc45</th>\n",
              "      <td></td>\n",
              "      <td></td>\n",
              "      <td></td>\n",
              "      <td></td>\n",
              "      <td>756</td>\n",
              "      <td>756</td>\n",
              "      <td>756</td>\n",
              "      <td>756</td>\n",
              "      <td>756</td>\n",
              "      <td>756</td>\n",
              "      <td>756</td>\n",
              "      <td>756</td>\n",
              "      <td></td>\n",
              "      <td></td>\n",
              "    </tr>\n",
              "  </tbody>\n",
              "</table>\n",
              "</div>"
            ],
            "text/plain": [
              "adapt_steps                      500                ... 10000 20000      \n",
              "adapt_lr                         0.001 0.003 0.010  ... 0.030 0.010 0.030\n",
              "adapt_resolution adapt_ds                           ...                  \n",
              "224              cifar100                           ...   756            \n",
              "                 imagenet2012                       ...         756   756\n",
              "                 kitti             756   756   756  ...                  \n",
              "                 oxford_iiit_pet   756   756   756  ...                  \n",
              "                 resisc45                           ...   756            \n",
              "384              cifar100                           ...   756            \n",
              "                 imagenet2012                       ...         756   755\n",
              "                 kitti             756   756   756  ...                  \n",
              "                 oxford_iiit_pet   756   756   756  ...                  \n",
              "                 resisc45                           ...   756            \n",
              "\n",
              "[10 rows x 14 columns]"
            ]
          },
          "metadata": {
            "tags": []
          },
          "execution_count": 12
        }
      ]
    },
    {
      "cell_type": "code",
      "metadata": {
        "colab": {
          "base_uri": "https://localhost:8080/"
        },
        "id": "8Gbt7cdhEHg7",
        "outputId": "e7d83904-5a76-4b15-ea2f-ee15a01b08c2"
      },
      "source": [
        "# Let's first select the \"best checkpoint\" for every model. We show in the\n",
        "# paper (section 4.5) that one can get a good performance by simply choosing the\n",
        "# best model by final pre-train validation accuracy (\"final-val\" column).\n",
        "# Pre-training with imagenet21k 300 epochs (ds==\"i21k\") gives the best\n",
        "# performance in almost all cases (figure 6, table 5).\n",
        "best_filenames = set(\n",
        "    df.query('ds==\"i21k\"')\n",
        "    .groupby('name')\n",
        "    .apply(lambda df: df.sort_values('final_val').iloc[-1])\n",
        "    .filename\n",
        ")\n",
        "\n",
        "# Select all finetunes from these models.\n",
        "best_df = df.loc[df.filename.apply(lambda filename: filename in best_filenames)]\n",
        "\n",
        "# Note: 9 * 68 == 612\n",
        "len(best_filenames), len(best_df)"
      ],
      "execution_count": null,
      "outputs": [
        {
          "output_type": "execute_result",
          "data": {
            "text/plain": [
              "(9, 612)"
            ]
          },
          "metadata": {
            "tags": []
          },
          "execution_count": 13
        }
      ]
    },
    {
      "cell_type": "code",
      "metadata": {
        "colab": {
          "base_uri": "https://localhost:8080/"
        },
        "id": "poiez-EcZmtI",
        "outputId": "8b91e1f0-c64c-4e58-9dc5-290af50b2450"
      },
      "source": [
        "best_df.columns"
      ],
      "execution_count": null,
      "outputs": [
        {
          "output_type": "execute_result",
          "data": {
            "text/plain": [
              "Index(['name', 'ds', 'epochs', 'lr', 'aug', 'wd', 'do', 'sd', 'best_val',\n",
              "       'final_val', 'final_test', 'adapt_ds', 'adapt_lr', 'adapt_steps',\n",
              "       'adapt_resolution', 'adapt_final_val', 'adapt_final_test', 'params',\n",
              "       'infer_samples_per_sec', 'filename', 'adapt_filename'],\n",
              "      dtype='object')"
            ]
          },
          "metadata": {
            "tags": []
          },
          "execution_count": 14
        }
      ]
    },
    {
      "cell_type": "code",
      "metadata": {
        "colab": {
          "base_uri": "https://localhost:8080/",
          "height": 1000
        },
        "id": "MI_XTt1vX930",
        "outputId": "d8f0f002-5c8d-4c98-cf87-5cdf48db9684"
      },
      "source": [
        "# Note that this dataframe contains the models from the \"i21k_300\" column of\n",
        "# table 3:\n",
        "best_df.query('adapt_ds==\"imagenet2012\"').groupby('name').apply(\n",
        "    lambda df: df.sort_values('adapt_final_val').iloc[-1]\n",
        ")[[\n",
        "   # Columns from upstream\n",
        "   'name', 'ds', 'filename',\n",
        "   # Columns from downstream\n",
        "   'adapt_resolution', 'infer_samples_per_sec','adapt_ds', 'adapt_final_test', 'adapt_filename',\n",
        "]].sort_values('infer_samples_per_sec')"
      ],
      "execution_count": null,
      "outputs": [
        {
          "output_type": "execute_result",
          "data": {
            "text/html": [
              "<div>\n",
              "<style scoped>\n",
              "    .dataframe tbody tr th:only-of-type {\n",
              "        vertical-align: middle;\n",
              "    }\n",
              "\n",
              "    .dataframe tbody tr th {\n",
              "        vertical-align: top;\n",
              "    }\n",
              "\n",
              "    .dataframe thead th {\n",
              "        text-align: right;\n",
              "    }\n",
              "</style>\n",
              "<table border=\"1\" class=\"dataframe\">\n",
              "  <thead>\n",
              "    <tr style=\"text-align: right;\">\n",
              "      <th></th>\n",
              "      <th>name</th>\n",
              "      <th>ds</th>\n",
              "      <th>filename</th>\n",
              "      <th>adapt_resolution</th>\n",
              "      <th>infer_samples_per_sec</th>\n",
              "      <th>adapt_ds</th>\n",
              "      <th>adapt_final_test</th>\n",
              "      <th>adapt_filename</th>\n",
              "    </tr>\n",
              "    <tr>\n",
              "      <th>name</th>\n",
              "      <th></th>\n",
              "      <th></th>\n",
              "      <th></th>\n",
              "      <th></th>\n",
              "      <th></th>\n",
              "      <th></th>\n",
              "      <th></th>\n",
              "      <th></th>\n",
              "    </tr>\n",
              "  </thead>\n",
              "  <tbody>\n",
              "    <tr>\n",
              "      <th>L/16</th>\n",
              "      <td>L/16</td>\n",
              "      <td>i21k</td>\n",
              "      <td>L_16-i21k-300ep-lr_0.001-aug_strong1-wd_0.1-do_0.0-sd_0.0</td>\n",
              "      <td>384</td>\n",
              "      <td>49.87</td>\n",
              "      <td>imagenet2012</td>\n",
              "      <td>0.85588</td>\n",
              "      <td>L_16-i21k-300ep-lr_0.001-aug_strong1-wd_0.1-do_0.0-sd_0.0--imagenet2012-steps_20k-lr_0.01-res_384</td>\n",
              "    </tr>\n",
              "    <tr>\n",
              "      <th>B/16</th>\n",
              "      <td>B/16</td>\n",
              "      <td>i21k</td>\n",
              "      <td>B_16-i21k-300ep-lr_0.001-aug_medium1-wd_0.1-do_0.0-sd_0.0</td>\n",
              "      <td>384</td>\n",
              "      <td>137.92</td>\n",
              "      <td>imagenet2012</td>\n",
              "      <td>0.85486</td>\n",
              "      <td>B_16-i21k-300ep-lr_0.001-aug_medium1-wd_0.1-do_0.0-sd_0.0--imagenet2012-steps_20k-lr_0.03-res_384</td>\n",
              "    </tr>\n",
              "    <tr>\n",
              "      <th>S/16</th>\n",
              "      <td>S/16</td>\n",
              "      <td>i21k</td>\n",
              "      <td>S_16-i21k-300ep-lr_0.001-aug_light1-wd_0.03-do_0.0-sd_0.0</td>\n",
              "      <td>384</td>\n",
              "      <td>300.12</td>\n",
              "      <td>imagenet2012</td>\n",
              "      <td>0.83728</td>\n",
              "      <td>S_16-i21k-300ep-lr_0.001-aug_light1-wd_0.03-do_0.0-sd_0.0--imagenet2012-steps_20k-lr_0.03-res_384</td>\n",
              "    </tr>\n",
              "    <tr>\n",
              "      <th>R50+L/32</th>\n",
              "      <td>R50+L/32</td>\n",
              "      <td>i21k</td>\n",
              "      <td>R50_L_32-i21k-300ep-lr_0.001-aug_medium1-wd_0.1-do_0.1-sd_0.1</td>\n",
              "      <td>384</td>\n",
              "      <td>326.73</td>\n",
              "      <td>imagenet2012</td>\n",
              "      <td>0.85992</td>\n",
              "      <td>R50_L_32-i21k-300ep-lr_0.001-aug_medium1-wd_0.1-do_0.1-sd_0.1--imagenet2012-steps_20k-lr_0.01-res_384</td>\n",
              "    </tr>\n",
              "    <tr>\n",
              "      <th>R26+S/32</th>\n",
              "      <td>R26+S/32</td>\n",
              "      <td>i21k</td>\n",
              "      <td>R26_S_32-i21k-300ep-lr_0.001-aug_light1-wd_0.1-do_0.0-sd_0.0</td>\n",
              "      <td>384</td>\n",
              "      <td>560.40</td>\n",
              "      <td>imagenet2012</td>\n",
              "      <td>0.83846</td>\n",
              "      <td>R26_S_32-i21k-300ep-lr_0.001-aug_light1-wd_0.1-do_0.0-sd_0.0--imagenet2012-steps_20k-lr_0.01-res_384</td>\n",
              "    </tr>\n",
              "    <tr>\n",
              "      <th>Ti/16</th>\n",
              "      <td>Ti/16</td>\n",
              "      <td>i21k</td>\n",
              "      <td>Ti_16-i21k-300ep-lr_0.001-aug_none-wd_0.03-do_0.0-sd_0.0</td>\n",
              "      <td>384</td>\n",
              "      <td>609.58</td>\n",
              "      <td>imagenet2012</td>\n",
              "      <td>0.78220</td>\n",
              "      <td>Ti_16-i21k-300ep-lr_0.001-aug_none-wd_0.03-do_0.0-sd_0.0--imagenet2012-steps_20k-lr_0.03-res_384</td>\n",
              "    </tr>\n",
              "    <tr>\n",
              "      <th>B/32</th>\n",
              "      <td>B/32</td>\n",
              "      <td>i21k</td>\n",
              "      <td>B_32-i21k-300ep-lr_0.001-aug_light1-wd_0.1-do_0.0-sd_0.0</td>\n",
              "      <td>384</td>\n",
              "      <td>954.94</td>\n",
              "      <td>imagenet2012</td>\n",
              "      <td>0.83586</td>\n",
              "      <td>B_32-i21k-300ep-lr_0.001-aug_light1-wd_0.1-do_0.0-sd_0.0--imagenet2012-steps_20k-lr_0.01-res_384</td>\n",
              "    </tr>\n",
              "    <tr>\n",
              "      <th>S/32</th>\n",
              "      <td>S/32</td>\n",
              "      <td>i21k</td>\n",
              "      <td>S_32-i21k-300ep-lr_0.001-aug_none-wd_0.1-do_0.0-sd_0.0</td>\n",
              "      <td>384</td>\n",
              "      <td>2153.94</td>\n",
              "      <td>imagenet2012</td>\n",
              "      <td>0.79584</td>\n",
              "      <td>S_32-i21k-300ep-lr_0.001-aug_none-wd_0.1-do_0.0-sd_0.0--imagenet2012-steps_20k-lr_0.01-res_384</td>\n",
              "    </tr>\n",
              "    <tr>\n",
              "      <th>R+Ti/16</th>\n",
              "      <td>R+Ti/16</td>\n",
              "      <td>i21k</td>\n",
              "      <td>R_Ti_16-i21k-300ep-lr_0.001-aug_none-wd_0.03-do_0.0-sd_0.0</td>\n",
              "      <td>384</td>\n",
              "      <td>2425.77</td>\n",
              "      <td>imagenet2012</td>\n",
              "      <td>0.75402</td>\n",
              "      <td>R_Ti_16-i21k-300ep-lr_0.001-aug_none-wd_0.03-do_0.0-sd_0.0--imagenet2012-steps_20k-lr_0.03-res_384</td>\n",
              "    </tr>\n",
              "  </tbody>\n",
              "</table>\n",
              "</div>"
            ],
            "text/plain": [
              "              name  ...                                                                                         adapt_filename\n",
              "name                ...                                                                                                       \n",
              "L/16          L/16  ...      L_16-i21k-300ep-lr_0.001-aug_strong1-wd_0.1-do_0.0-sd_0.0--imagenet2012-steps_20k-lr_0.01-res_384\n",
              "B/16          B/16  ...      B_16-i21k-300ep-lr_0.001-aug_medium1-wd_0.1-do_0.0-sd_0.0--imagenet2012-steps_20k-lr_0.03-res_384\n",
              "S/16          S/16  ...      S_16-i21k-300ep-lr_0.001-aug_light1-wd_0.03-do_0.0-sd_0.0--imagenet2012-steps_20k-lr_0.03-res_384\n",
              "R50+L/32  R50+L/32  ...  R50_L_32-i21k-300ep-lr_0.001-aug_medium1-wd_0.1-do_0.1-sd_0.1--imagenet2012-steps_20k-lr_0.01-res_384\n",
              "R26+S/32  R26+S/32  ...   R26_S_32-i21k-300ep-lr_0.001-aug_light1-wd_0.1-do_0.0-sd_0.0--imagenet2012-steps_20k-lr_0.01-res_384\n",
              "Ti/16        Ti/16  ...       Ti_16-i21k-300ep-lr_0.001-aug_none-wd_0.03-do_0.0-sd_0.0--imagenet2012-steps_20k-lr_0.03-res_384\n",
              "B/32          B/32  ...       B_32-i21k-300ep-lr_0.001-aug_light1-wd_0.1-do_0.0-sd_0.0--imagenet2012-steps_20k-lr_0.01-res_384\n",
              "S/32          S/32  ...         S_32-i21k-300ep-lr_0.001-aug_none-wd_0.1-do_0.0-sd_0.0--imagenet2012-steps_20k-lr_0.01-res_384\n",
              "R+Ti/16    R+Ti/16  ...     R_Ti_16-i21k-300ep-lr_0.001-aug_none-wd_0.03-do_0.0-sd_0.0--imagenet2012-steps_20k-lr_0.03-res_384\n",
              "\n",
              "[9 rows x 8 columns]"
            ]
          },
          "metadata": {
            "tags": []
          },
          "execution_count": 15
        }
      ]
    },
    {
      "cell_type": "code",
      "metadata": {
        "colab": {
          "base_uri": "https://localhost:8080/",
          "height": 388
        },
        "id": "iPYUh4V1EdHg",
        "outputId": "582b5a93-19bc-46a2-9ca7-24c9c6a7db79"
      },
      "source": [
        "# Visualize the 2 (resolution) * 9 (models) * 8 (lr, steps) finetunings for a\n",
        "# single dataset (Pets37).\n",
        "# Note how larger models get better scores up to B/16 @384 even on this tiny\n",
        "# dataset, if pre-trained sufficiently.\n",
        "sns.relplot(\n",
        "    data=best_df.query('adapt_ds==\"oxford_iiit_pet\"'),\n",
        "    x='infer_samples_per_sec',\n",
        "    y='adapt_final_val',\n",
        "    hue='name',\n",
        "    style='adapt_resolution'\n",
        ")\n",
        "plt.gca().set_xscale('log');"
      ],
      "execution_count": null,
      "outputs": [
        {
          "output_type": "display_data",
          "data": {
            "image/png": "[encoded data removed]",
            "text/plain": [
              "<Figure size 459.375x360 with 1 Axes>"
            ]
          },
          "metadata": {
            "tags": [],
            "needs_background": "light"
          }
        }
      ]
    },
    {
      "cell_type": "code",
      "metadata": {
        "colab": {
          "base_uri": "https://localhost:8080/",
          "height": 1000
        },
        "id": "9i7Y9AcpFtlr",
        "outputId": "c9f7c9bd-bb6c-4138-b838-8965feb00230"
      },
      "source": [
        "# More details for a single pre-trained checkpoint.\n",
        "best_df.query('name==\"R26+S/32\" and adapt_ds==\"oxford_iiit_pet\"')[[\n",
        "  col for col in best_df.columns if col.startswith('adapt_')\n",
        "]].sort_values('adapt_final_val')"
      ],
      "execution_count": null,
      "outputs": [
        {
          "output_type": "execute_result",
          "data": {
            "text/html": [
              "<div>\n",
              "<style scoped>\n",
              "    .dataframe tbody tr th:only-of-type {\n",
              "        vertical-align: middle;\n",
              "    }\n",
              "\n",
              "    .dataframe tbody tr th {\n",
              "        vertical-align: top;\n",
              "    }\n",
              "\n",
              "    .dataframe thead th {\n",
              "        text-align: right;\n",
              "    }\n",
              "</style>\n",
              "<table border=\"1\" class=\"dataframe\">\n",
              "  <thead>\n",
              "    <tr style=\"text-align: right;\">\n",
              "      <th></th>\n",
              "      <th>adapt_ds</th>\n",
              "      <th>adapt_lr</th>\n",
              "      <th>adapt_steps</th>\n",
              "      <th>adapt_resolution</th>\n",
              "      <th>adapt_final_val</th>\n",
              "      <th>adapt_final_test</th>\n",
              "      <th>adapt_filename</th>\n",
              "    </tr>\n",
              "  </thead>\n",
              "  <tbody>\n",
              "    <tr>\n",
              "      <th>29020</th>\n",
              "      <td>oxford_iiit_pet</td>\n",
              "      <td>0.030</td>\n",
              "      <td>2500</td>\n",
              "      <td>224</td>\n",
              "      <td>0.894022</td>\n",
              "      <td>0.867539</td>\n",
              "      <td>R26_S_32-i21k-300ep-lr_0.001-aug_light1-wd_0.1-do_0.0-sd_0.0--oxford_iiit_pet-steps_2k-lr_0.03-res_224</td>\n",
              "    </tr>\n",
              "    <tr>\n",
              "      <th>31874</th>\n",
              "      <td>oxford_iiit_pet</td>\n",
              "      <td>0.030</td>\n",
              "      <td>2500</td>\n",
              "      <td>384</td>\n",
              "      <td>0.915761</td>\n",
              "      <td>0.894794</td>\n",
              "      <td>R26_S_32-i21k-300ep-lr_0.001-aug_light1-wd_0.1-do_0.0-sd_0.0--oxford_iiit_pet-steps_2k-lr_0.03-res_384</td>\n",
              "    </tr>\n",
              "    <tr>\n",
              "      <th>29024</th>\n",
              "      <td>oxford_iiit_pet</td>\n",
              "      <td>0.030</td>\n",
              "      <td>500</td>\n",
              "      <td>224</td>\n",
              "      <td>0.932065</td>\n",
              "      <td>0.916326</td>\n",
              "      <td>R26_S_32-i21k-300ep-lr_0.001-aug_light1-wd_0.1-do_0.0-sd_0.0--oxford_iiit_pet-steps_0k-lr_0.03-res_224</td>\n",
              "    </tr>\n",
              "    <tr>\n",
              "      <th>29021</th>\n",
              "      <td>oxford_iiit_pet</td>\n",
              "      <td>0.010</td>\n",
              "      <td>2500</td>\n",
              "      <td>224</td>\n",
              "      <td>0.934783</td>\n",
              "      <td>0.908694</td>\n",
              "      <td>R26_S_32-i21k-300ep-lr_0.001-aug_light1-wd_0.1-do_0.0-sd_0.0--oxford_iiit_pet-steps_2k-lr_0.01-res_224</td>\n",
              "    </tr>\n",
              "    <tr>\n",
              "      <th>29022</th>\n",
              "      <td>oxford_iiit_pet</td>\n",
              "      <td>0.003</td>\n",
              "      <td>2500</td>\n",
              "      <td>224</td>\n",
              "      <td>0.945652</td>\n",
              "      <td>0.926410</td>\n",
              "      <td>R26_S_32-i21k-300ep-lr_0.001-aug_light1-wd_0.1-do_0.0-sd_0.0--oxford_iiit_pet-steps_2k-lr_0.003-res_224</td>\n",
              "    </tr>\n",
              "    <tr>\n",
              "      <th>31875</th>\n",
              "      <td>oxford_iiit_pet</td>\n",
              "      <td>0.010</td>\n",
              "      <td>2500</td>\n",
              "      <td>384</td>\n",
              "      <td>0.945652</td>\n",
              "      <td>0.934315</td>\n",
              "      <td>R26_S_32-i21k-300ep-lr_0.001-aug_light1-wd_0.1-do_0.0-sd_0.0--oxford_iiit_pet-steps_2k-lr_0.01-res_384</td>\n",
              "    </tr>\n",
              "    <tr>\n",
              "      <th>29025</th>\n",
              "      <td>oxford_iiit_pet</td>\n",
              "      <td>0.010</td>\n",
              "      <td>500</td>\n",
              "      <td>224</td>\n",
              "      <td>0.951087</td>\n",
              "      <td>0.928046</td>\n",
              "      <td>R26_S_32-i21k-300ep-lr_0.001-aug_light1-wd_0.1-do_0.0-sd_0.0--oxford_iiit_pet-steps_0k-lr_0.01-res_224</td>\n",
              "    </tr>\n",
              "    <tr>\n",
              "      <th>31878</th>\n",
              "      <td>oxford_iiit_pet</td>\n",
              "      <td>0.030</td>\n",
              "      <td>500</td>\n",
              "      <td>384</td>\n",
              "      <td>0.953804</td>\n",
              "      <td>0.941128</td>\n",
              "      <td>R26_S_32-i21k-300ep-lr_0.001-aug_light1-wd_0.1-do_0.0-sd_0.0--oxford_iiit_pet-steps_0k-lr_0.03-res_384</td>\n",
              "    </tr>\n",
              "    <tr>\n",
              "      <th>29023</th>\n",
              "      <td>oxford_iiit_pet</td>\n",
              "      <td>0.001</td>\n",
              "      <td>2500</td>\n",
              "      <td>224</td>\n",
              "      <td>0.959239</td>\n",
              "      <td>0.931044</td>\n",
              "      <td>R26_S_32-i21k-300ep-lr_0.001-aug_light1-wd_0.1-do_0.0-sd_0.0--oxford_iiit_pet-steps_2k-lr_0.001-res_224</td>\n",
              "    </tr>\n",
              "    <tr>\n",
              "      <th>29027</th>\n",
              "      <td>oxford_iiit_pet</td>\n",
              "      <td>0.001</td>\n",
              "      <td>500</td>\n",
              "      <td>224</td>\n",
              "      <td>0.959239</td>\n",
              "      <td>0.923412</td>\n",
              "      <td>R26_S_32-i21k-300ep-lr_0.001-aug_light1-wd_0.1-do_0.0-sd_0.0--oxford_iiit_pet-steps_0k-lr_0.001-res_224</td>\n",
              "    </tr>\n",
              "    <tr>\n",
              "      <th>31876</th>\n",
              "      <td>oxford_iiit_pet</td>\n",
              "      <td>0.003</td>\n",
              "      <td>2500</td>\n",
              "      <td>384</td>\n",
              "      <td>0.961957</td>\n",
              "      <td>0.941401</td>\n",
              "      <td>R26_S_32-i21k-300ep-lr_0.001-aug_light1-wd_0.1-do_0.0-sd_0.0--oxford_iiit_pet-steps_2k-lr_0.003-res_384</td>\n",
              "    </tr>\n",
              "    <tr>\n",
              "      <th>31877</th>\n",
              "      <td>oxford_iiit_pet</td>\n",
              "      <td>0.001</td>\n",
              "      <td>2500</td>\n",
              "      <td>384</td>\n",
              "      <td>0.961957</td>\n",
              "      <td>0.944672</td>\n",
              "      <td>R26_S_32-i21k-300ep-lr_0.001-aug_light1-wd_0.1-do_0.0-sd_0.0--oxford_iiit_pet-steps_2k-lr_0.001-res_384</td>\n",
              "    </tr>\n",
              "    <tr>\n",
              "      <th>31879</th>\n",
              "      <td>oxford_iiit_pet</td>\n",
              "      <td>0.010</td>\n",
              "      <td>500</td>\n",
              "      <td>384</td>\n",
              "      <td>0.961957</td>\n",
              "      <td>0.946852</td>\n",
              "      <td>R26_S_32-i21k-300ep-lr_0.001-aug_light1-wd_0.1-do_0.0-sd_0.0--oxford_iiit_pet-steps_0k-lr_0.01-res_384</td>\n",
              "    </tr>\n",
              "    <tr>\n",
              "      <th>31881</th>\n",
              "      <td>oxford_iiit_pet</td>\n",
              "      <td>0.001</td>\n",
              "      <td>500</td>\n",
              "      <td>384</td>\n",
              "      <td>0.964674</td>\n",
              "      <td>0.930499</td>\n",
              "      <td>R26_S_32-i21k-300ep-lr_0.001-aug_light1-wd_0.1-do_0.0-sd_0.0--oxford_iiit_pet-steps_0k-lr_0.001-res_384</td>\n",
              "    </tr>\n",
              "    <tr>\n",
              "      <th>29026</th>\n",
              "      <td>oxford_iiit_pet</td>\n",
              "      <td>0.003</td>\n",
              "      <td>500</td>\n",
              "      <td>224</td>\n",
              "      <td>0.967391</td>\n",
              "      <td>0.931589</td>\n",
              "      <td>R26_S_32-i21k-300ep-lr_0.001-aug_light1-wd_0.1-do_0.0-sd_0.0--oxford_iiit_pet-steps_0k-lr_0.003-res_224</td>\n",
              "    </tr>\n",
              "    <tr>\n",
              "      <th>31880</th>\n",
              "      <td>oxford_iiit_pet</td>\n",
              "      <td>0.003</td>\n",
              "      <td>500</td>\n",
              "      <td>384</td>\n",
              "      <td>0.967391</td>\n",
              "      <td>0.941946</td>\n",
              "      <td>R26_S_32-i21k-300ep-lr_0.001-aug_light1-wd_0.1-do_0.0-sd_0.0--oxford_iiit_pet-steps_0k-lr_0.003-res_384</td>\n",
              "    </tr>\n",
              "  </tbody>\n",
              "</table>\n",
              "</div>"
            ],
            "text/plain": [
              "              adapt_ds  ...                                                                                           adapt_filename\n",
              "29020  oxford_iiit_pet  ...   R26_S_32-i21k-300ep-lr_0.001-aug_light1-wd_0.1-do_0.0-sd_0.0--oxford_iiit_pet-steps_2k-lr_0.03-res_224\n",
              "31874  oxford_iiit_pet  ...   R26_S_32-i21k-300ep-lr_0.001-aug_light1-wd_0.1-do_0.0-sd_0.0--oxford_iiit_pet-steps_2k-lr_0.03-res_384\n",
              "29024  oxford_iiit_pet  ...   R26_S_32-i21k-300ep-lr_0.001-aug_light1-wd_0.1-do_0.0-sd_0.0--oxford_iiit_pet-steps_0k-lr_0.03-res_224\n",
              "29021  oxford_iiit_pet  ...   R26_S_32-i21k-300ep-lr_0.001-aug_light1-wd_0.1-do_0.0-sd_0.0--oxford_iiit_pet-steps_2k-lr_0.01-res_224\n",
              "29022  oxford_iiit_pet  ...  R26_S_32-i21k-300ep-lr_0.001-aug_light1-wd_0.1-do_0.0-sd_0.0--oxford_iiit_pet-steps_2k-lr_0.003-res_224\n",
              "31875  oxford_iiit_pet  ...   R26_S_32-i21k-300ep-lr_0.001-aug_light1-wd_0.1-do_0.0-sd_0.0--oxford_iiit_pet-steps_2k-lr_0.01-res_384\n",
              "29025  oxford_iiit_pet  ...   R26_S_32-i21k-300ep-lr_0.001-aug_light1-wd_0.1-do_0.0-sd_0.0--oxford_iiit_pet-steps_0k-lr_0.01-res_224\n",
              "31878  oxford_iiit_pet  ...   R26_S_32-i21k-300ep-lr_0.001-aug_light1-wd_0.1-do_0.0-sd_0.0--oxford_iiit_pet-steps_0k-lr_0.03-res_384\n",
              "29023  oxford_iiit_pet  ...  R26_S_32-i21k-300ep-lr_0.001-aug_light1-wd_0.1-do_0.0-sd_0.0--oxford_iiit_pet-steps_2k-lr_0.001-res_224\n",
              "29027  oxford_iiit_pet  ...  R26_S_32-i21k-300ep-lr_0.001-aug_light1-wd_0.1-do_0.0-sd_0.0--oxford_iiit_pet-steps_0k-lr_0.001-res_224\n",
              "31876  oxford_iiit_pet  ...  R26_S_32-i21k-300ep-lr_0.001-aug_light1-wd_0.1-do_0.0-sd_0.0--oxford_iiit_pet-steps_2k-lr_0.003-res_384\n",
              "31877  oxford_iiit_pet  ...  R26_S_32-i21k-300ep-lr_0.001-aug_light1-wd_0.1-do_0.0-sd_0.0--oxford_iiit_pet-steps_2k-lr_0.001-res_384\n",
              "31879  oxford_iiit_pet  ...   R26_S_32-i21k-300ep-lr_0.001-aug_light1-wd_0.1-do_0.0-sd_0.0--oxford_iiit_pet-steps_0k-lr_0.01-res_384\n",
              "31881  oxford_iiit_pet  ...  R26_S_32-i21k-300ep-lr_0.001-aug_light1-wd_0.1-do_0.0-sd_0.0--oxford_iiit_pet-steps_0k-lr_0.001-res_384\n",
              "29026  oxford_iiit_pet  ...  R26_S_32-i21k-300ep-lr_0.001-aug_light1-wd_0.1-do_0.0-sd_0.0--oxford_iiit_pet-steps_0k-lr_0.003-res_224\n",
              "31880  oxford_iiit_pet  ...  R26_S_32-i21k-300ep-lr_0.001-aug_light1-wd_0.1-do_0.0-sd_0.0--oxford_iiit_pet-steps_0k-lr_0.003-res_384\n",
              "\n",
              "[16 rows x 7 columns]"
            ]
          },
          "metadata": {
            "tags": []
          },
          "execution_count": 17
        }
      ]
    },
    {
      "cell_type": "markdown",
      "metadata": {
        "id": "wh_SLkQtQ6K4"
      },
      "source": [
        "### Load a checkpoint"
      ]
    },
    {
      "cell_type": "code",
      "metadata": {
        "colab": {
          "base_uri": "https://localhost:8080/"
        },
        "id": "cwWBMJSpQ7EZ",
        "outputId": "410466bb-f058-43e5-f473-0e014936d3da"
      },
      "source": [
        "# Select a value from \"adapt_filename\" above that is a fine-tuned checkpoint.\n",
        "filename = 'R26_S_32-i21k-300ep-lr_0.001-aug_light1-wd_0.1-do_0.0-sd_0.0--oxford_iiit_pet-steps_0k-lr_0.003-res_384'\n",
        "\n",
        "tfds_name = filename.split('--')[1].split('-')[0]\n",
        "model_config = models_config.AUGREG_CONFIGS[filename.split('-')[0]]\n",
        "resolution = int(filename.split('_')[-1])\n",
        "path = f'gs://vit_models/augreg/{filename}.npz'\n",
        "\n",
        "print(f'{tf.io.gfile.stat(path).length / 1024 / 1024:.1f} MiB - {path}')"
      ],
      "execution_count": null,
      "outputs": [
        {
          "output_type": "stream",
          "text": [
            "137.8 MiB - gs://vit_models/augreg/R26_S_32-i21k-300ep-lr_0.001-aug_light1-wd_0.1-do_0.0-sd_0.0--oxford_iiit_pet-steps_0k-lr_0.003-res_384.npz\n"
          ],
          "name": "stdout"
        }
      ]
    },
    {
      "cell_type": "code",
      "metadata": {
        "colab": {
          "base_uri": "https://localhost:8080/",
          "height": 401,
          "referenced_widgets": [
            "6881a2cadfc64d3480677d8984376206",
            "ec4f9cf556ff44388da7bc6cd1565106",
            "45a93bf4f24a443099d036f4fe5e9ffa",
            "80034aa6ca85475db19e68cbcf775e97",
            "871ad16f9413463eba8521e9f8923338",
            "ba2e96a695b4453fb19282f0d981e4c8",
            "a9a6dd218eea4198b2c7d90340d52752",
            "db2ff0ec4e77478fbaf38ad46a5b8a28",
            "9cc6e9aa75e74b96996df4bb82bd6307",
            "303f3f5028bd481698ad8fb07a6cddfb",
            "db79ec71d7b8486a99f166d824e581b6",
            "6774b10d4a6f4836a6a444f9958609c8",
            "592c53e53b43431fb75888de94675841",
            "82082d10f9c74a8cac78a79cd830784d",
            "cda761fb8d64437a802f0515ebde6cb5",
            "130bc67f47ae4770b9ffe674062b063f",
            "c1a07fe805504a4aaefef25d6baa63a5",
            "962e58c150a94d0390b84c087388d144",
            "0ee61fc115cb46168385ba0940f0e495",
            "7d6d04e503144800bc34a0cc2e3e2b76",
            "bfc0745bf2744e7f94c6ac92843e6947",
            "3df64e402d7549478de8c74588609fbe",
            "1cd6013527a748afb05fd6876e8c9cbe",
            "2ddcb45f5d9b458d9d819a4665ce68bc",
            "467898287fb24751abec3b254bcb4821",
            "ba5435376da84625ad8b21b8bbb9ee21",
            "b9b4cba3391f475fb4d3e678ae0998e0",
            "da910146a8054afc9ee1813e15efc9f7",
            "d4662d8fda7e43f0b00fa13cd869df67",
            "566bbd7525794a5fa3216d2f223f678c",
            "1cba1b67d259459cac4cc86dca1f4477",
            "a032f04afc0f4ed3bb2e347ad6d2eb70",
            "7573a329e83646c295ce7a6d0f490352"
          ]
        },
        "id": "MKW2flB_Sk1u",
        "outputId": "477c54a2-3747-4d74-ed50-a04cc98dfefb"
      },
      "source": [
        "# Fetch dataset that the checkpoint was finetuned on.\n",
        "# (Note that automatic download does not work with imagenet2012)\n",
        "ds, ds_info = tfds.load(tfds_name, with_info=True)\n",
        "ds_info"
      ],
      "execution_count": null,
      "outputs": [
        {
          "output_type": "stream",
          "text": [
            "INFO:absl:Load pre-computed DatasetInfo (eg: splits, num examples,...) from GCS: oxford_iiit_pet/3.2.0\n",
            "INFO:absl:Load dataset info from /tmp/tmppiphaneptfds\n",
            "INFO:absl:Generating dataset oxford_iiit_pet (/root/tensorflow_datasets/oxford_iiit_pet/3.2.0)\n"
          ],
          "name": "stderr"
        },
        {
          "output_type": "stream",
          "text": [
            "\u001b[1mDownloading and preparing dataset oxford_iiit_pet/3.2.0 (download: 773.52 MiB, generated: 774.69 MiB, total: 1.51 GiB) to /root/tensorflow_datasets/oxford_iiit_pet/3.2.0...\u001b[0m\n"
          ],
          "name": "stdout"
        },
        {
          "output_type": "display_data",
          "data": {
            "application/vnd.jupyter.widget-view+json": {
              "model_id": "6881a2cadfc64d3480677d8984376206",
              "version_minor": 0,
              "version_major": 2
            },
            "text/plain": [
              "HBox(children=(FloatProgress(value=1.0, bar_style='info', description='Dl Completed...', max=1.0, style=Progre…"
            ]
          },
          "metadata": {
            "tags": []
          }
        },
        {
          "output_type": "display_data",
          "data": {
            "application/vnd.jupyter.widget-view+json": {
              "model_id": "9cc6e9aa75e74b96996df4bb82bd6307",
              "version_minor": 0,
              "version_major": 2
            },
            "text/plain": [
              "HBox(children=(FloatProgress(value=1.0, bar_style='info', description='Dl Size...', max=1.0, style=ProgressSty…"
            ]
          },
          "metadata": {
            "tags": []
          }
        },
        {
          "output_type": "display_data",
          "data": {
            "application/vnd.jupyter.widget-view+json": {
              "model_id": "c1a07fe805504a4aaefef25d6baa63a5",
              "version_minor": 0,
              "version_major": 2
            },
            "text/plain": [
              "HBox(children=(FloatProgress(value=1.0, bar_style='info', description='Extraction completed...', max=1.0, styl…"
            ]
          },
          "metadata": {
            "tags": []
          }
        },
        {
          "output_type": "stream",
          "text": [
            "INFO:absl:Downloading http://www.robots.ox.ac.uk/~vgg/data/pets/data/annotations.tar.gz into /root/tensorflow_datasets/downloads/robots.ox.ac.uk_vgg_pets_annotationsL8B_bMDM0_iUhyDddl6Yu-1togBm2g5ZH8E6r80wOQo.tar.gz.tmp.936b8d1bfdc24d2189ab933803d58ea7...\n",
            "INFO:absl:Downloading http://www.robots.ox.ac.uk/~vgg/data/pets/data/images.tar.gz into /root/tensorflow_datasets/downloads/robots.ox.ac.uk_vgg_pets_imageswMR1o1DWRq_DHWToagdXedb7P88RHpceK3WqG77VVwU.tar.gz.tmp.225d87f3c0a94956be014d7b6945856f...\n",
            "INFO:absl:Generating split train\n"
          ],
          "name": "stderr"
        },
        {
          "output_type": "stream",
          "text": [
            "\n",
            "\n",
            "\n",
            "\n",
            "\n",
            "\n"
          ],
          "name": "stdout"
        },
        {
          "output_type": "display_data",
          "data": {
            "application/vnd.jupyter.widget-view+json": {
              "model_id": "467898287fb24751abec3b254bcb4821",
              "version_minor": 0,
              "version_major": 2
            },
            "text/plain": [
              "HBox(children=(FloatProgress(value=1.0, bar_style='info', max=1.0), HTML(value='')))"
            ]
          },
          "metadata": {
            "tags": []
          }
        },
        {
          "output_type": "stream",
          "text": [
            "\rShuffling and writing examples to /root/tensorflow_datasets/oxford_iiit_pet/3.2.0.incompleteP3QBQE/oxford_iiit_pet-train.tfrecord\n"
          ],
          "name": "stdout"
        },
        {
          "output_type": "display_data",
          "data": {
            "application/vnd.jupyter.widget-view+json": {
              "model_id": "7573a329e83646c295ce7a6d0f490352",
              "version_minor": 0,
              "version_major": 2
            },
            "text/plain": [
              "HBox(children=(FloatProgress(value=0.0, max=3680.0), HTML(value='')))"
            ]
          },
          "metadata": {
            "tags": []
          }
        }
      ]
    },
    {
      "cell_type": "code",
      "metadata": {
        "id": "KtmV4tRCSX8n"
      },
      "source": [
        "# Get model instance - no weights are initialized yet.\n",
        "model = models.VisionTransformer(\n",
        "    num_classes=ds_info.features['label'].num_classes, **model_config)"
      ],
      "execution_count": null,
      "outputs": []
    },
    {
      "cell_type": "code",
      "metadata": {
        "id": "GU6Tw1KvScBA"
      },
      "source": [
        "# Load a checkpoint from cloud - for large checkpoints this can take a while...\n",
        "params = checkpoint.load(path)"
      ],
      "execution_count": null,
      "outputs": []
    },
    {
      "cell_type": "code",
      "metadata": {
        "id": "Js-QtAqeUJCo"
      },
      "source": [
        "# Get a single example from dataset for inference.\n",
        "d = next(iter(ds['test']))"
      ],
      "execution_count": null,
      "outputs": []
    },
    {
      "cell_type": "code",
      "metadata": {
        "id": "xpovSMYFUHAj"
      },
      "source": [
        "def pp(img, sz):\n",
        "  \"\"\"Simple image preprocessing.\"\"\"\n",
        "  img = tf.cast(img, float) / 255.0\n",
        "  img = tf.image.resize(img, [sz, sz])\n",
        "  return img\n",
        "\n",
        "plt.imshow(pp(d['image'], resolution));"
      ],
      "execution_count": null,
      "outputs": []
    },
    {
      "cell_type": "code",
      "metadata": {
        "id": "dBgTdceOT9vz"
      },
      "source": [
        "# Inferance on batch with single example.\n",
        "logits, = model.apply({'params': params}, [pp(d['image'], resolution)], train=False)"
      ],
      "execution_count": null,
      "outputs": []
    },
    {
      "cell_type": "code",
      "metadata": {
        "id": "QIQM--g4VwY9"
      },
      "source": [
        "# Plot logits (you can use tf.nn.softmax() to show probabilities instead).\n",
        "plt.figure(figsize=(10, 4))\n",
        "plt.bar(list(map(ds_info.features['label'].int2str, range(len(logits)))), logits)\n",
        "plt.xticks(rotation=90);"
      ],
      "execution_count": null,
      "outputs": []
    },
    {
      "cell_type": "markdown",
      "metadata": {
        "id": "1nMyWmDycpAo"
      },
      "source": [
        "#### Using `timm`\n",
        "\n",
        "If you know PyTorch, you're probably already familiar with `timm`.\n",
        "\n",
        "If not yet - it's your lucky day! Please check out their docs here:\n",
        "\n",
        "https://rwightman.github.io/pytorch-image-models/"
      ]
    },
    {
      "cell_type": "code",
      "metadata": {
        "id": "yV6Sr1TdXUMp"
      },
      "source": [
        "# Checkpoints can also be loaded directly into timm...\n",
        "!pip install timm\n",
        "import timm\n",
        "import torch"
      ],
      "execution_count": null,
      "outputs": []
    },
    {
      "cell_type": "code",
      "metadata": {
        "id": "gwV4IvfYXioI"
      },
      "source": [
        "# For available model names, see here:\n",
        "# https://github.com/rwightman/pytorch-image-models/blob/master/timm/models/vision_transformer.py\n",
        "# https://github.com/rwightman/pytorch-image-models/blob/master/timm/models/vision_transformer_hybrid.py\n",
        "timm_model = timm.create_model(\n",
        "    'vit_small_r26_s32_384', num_classes=ds_info.features['label'].num_classes)\n",
        "\n",
        "# Non-default checkpoints need to be loaded from local files.\n",
        "if not tf.io.gfile.exists(f'{filename}.npz'):\n",
        "  tf.io.gfile.copy(f'gs://vit_models/augreg/{filename}.npz', f'{filename}.npz')\n",
        "timm.models.load_checkpoint(timm_model, f'{filename}.npz')"
      ],
      "execution_count": null,
      "outputs": []
    },
    {
      "cell_type": "code",
      "metadata": {
        "id": "gd6NVWNLYOSI"
      },
      "source": [
        "def pp_torch(img, sz):\n",
        "  \"\"\"Simple image preprocessing for PyTorch.\"\"\"\n",
        "  img = pp(img, sz)\n",
        "  img = img.numpy().transpose([2, 0, 1])  # PyTorch expects NCHW format.\n",
        "  return torch.tensor(img[None])\n",
        "\n",
        "with torch.no_grad():\n",
        "  logits, = timm_model(pp_torch(d['image'], resolution)).detach().numpy()"
      ],
      "execution_count": null,
      "outputs": []
    },
    {
      "cell_type": "code",
      "metadata": {
        "id": "vA-mEJofeHxd"
      },
      "source": [
        "# Same results as above (since we loaded the same checkpoint).\n",
        "plt.figure(figsize=(10, 4))\n",
        "plt.bar(list(map(ds_info.features['label'].int2str, range(len(logits)))), logits)\n",
        "plt.xticks(rotation=90);"
      ],
      "execution_count": null,
      "outputs": []
    },
    {
      "cell_type": "markdown",
      "metadata": {
        "id": "iAruT3YOxqB6"
      },
      "source": [
        "### Fine-tune\n",
        "\n",
        "You want to be connected to a TPU or GPU runtime for fine-tuning.\n",
        "\n",
        "Note that here we're just calling into the code. For more details see the\n",
        "annotated Colab\n",
        "\n",
        "https://colab.sandbox.google.com/github/google-research/vision_transformer/blob/linen/vit_jax.ipynb\n",
        "\n",
        "Also note that Colab GPUs and TPUs are not very powerful. To run this code on\n",
        "more powerful machines, see:\n",
        "\n",
        "https://github.com/google-research/vision_transformer/#running-on-cloud\n",
        "\n",
        "In particular, note that due to the Colab \"TPU Node\" setup, transfering data to\n",
        "the TPUs is realtively slow (for example the smallest `R+Ti/16` model trains\n",
        "faster on a single GPU than on 8 TPUs...)"
      ]
    },
    {
      "cell_type": "markdown",
      "metadata": {
        "id": "TiHEFXlBbZiV"
      },
      "source": [
        "#### TensorBoard"
      ]
    },
    {
      "cell_type": "code",
      "metadata": {
        "id": "Fu6uaCGDXLmr"
      },
      "source": [
        "# Launch tensorboard before training - maybe click \"reload\" during training.\n",
        "%load_ext tensorboard\n",
        "%tensorboard --logdir=./workdirs"
      ],
      "execution_count": null,
      "outputs": []
    },
    {
      "cell_type": "markdown",
      "metadata": {
        "id": "KYU9EdV2bWV7"
      },
      "source": [
        "#### From tfds"
      ]
    },
    {
      "cell_type": "code",
      "metadata": {
        "id": "Z1Ee2-GzZ9sl"
      },
      "source": [
        "# Create a new temporary workdir.\n",
        "workdir = f'./workdirs/{int(time.time())}'\n",
        "workdir"
      ],
      "execution_count": null,
      "outputs": []
    },
    {
      "cell_type": "code",
      "metadata": {
        "id": "SB73ZFGCxsXo"
      },
      "source": [
        "# Get config for specified model.\n",
        "\n",
        "# Note that we can specify simply the model name (in which case the recommended\n",
        "# checkpoint for that model is taken), or it can be specified by its full\n",
        "# name.\n",
        "config = augreg_config.get_config('R_Ti_16')\n",
        "\n",
        "# A very small tfds dataset that only has a \"train\" split. We use this single\n",
        "# split both for training & evaluation by splitting it further into 90%/10%.\n",
        "config.dataset = 'tf_flowers'\n",
        "config.pp.train = 'train[:90%]'\n",
        "config.pp.test = 'train[90%:]'\n",
        "# tf_flowers only has 3670 images - so the 10% evaluation split will contain\n",
        "# 360 images. We specify batch_eval=120 so we evaluate on all but 7 of those\n",
        "# images (remainder is dropped).\n",
        "config.batch_eval = 120\n",
        "\n",
        "# Some more parameters that you will often want to set manually.\n",
        "# For example for VTAB we used steps={500, 2500} and lr={.001, .003, .01, .03}\n",
        "config.base_lr = 0.01\n",
        "config.shuffle_buffer = 1000\n",
        "config.total_steps = 100\n",
        "config.warmup_steps = 10\n",
        "config.accum_steps = 0  # Not needed with R+Ti/16 model.\n",
        "config.pp['crop'] = 224"
      ],
      "execution_count": null,
      "outputs": []
    },
    {
      "cell_type": "code",
      "metadata": {
        "id": "ldKZFMnmYjY_"
      },
      "source": [
        "# Call main training loop. See repository and above Colab for details.\n",
        "state = train.train_and_evaluate(config, workdir)"
      ],
      "execution_count": null,
      "outputs": []
    },
    {
      "cell_type": "markdown",
      "metadata": {
        "id": "JOtCfWFOfVFq"
      },
      "source": [
        "#### From JPG files\n",
        "\n",
        "The codebase supports training directly form JPG files on the local filesystem\n",
        "instead of `tfds` datasets. Note that the throughput is somewhat reduced, but\n",
        "that only is noticeable for very small models.\n",
        "\n",
        "The main advantage of `tfds` datasets is that they are versioned and available\n",
        "globally."
      ]
    },
    {
      "cell_type": "code",
      "metadata": {
        "id": "5VxlDlnxKAa3"
      },
      "source": [
        "base = '.'  # Store data on VM (ephemeral)."
      ],
      "execution_count": null,
      "outputs": []
    },
    {
      "cell_type": "code",
      "metadata": {
        "id": "yr6JY8OBmKkj"
      },
      "source": [
        "# Uncomment below lines if you want to download & persist files in your Google\n",
        "# Drive instead. Note that Colab VMs are reset (i.e. files are deleted) after\n",
        "# some time of inactivity. Storing data to Google Drive guarantees that it is\n",
        "# still available next time you connect from a new VM.\n",
        "\n",
        "# Note that this is significantly slower than reading from the VMs locally\n",
        "# attached file system!\n",
        "\n",
        "# from google.colab import drive\n",
        "# drive.mount('/gdrive')\n",
        "# base = '/gdrive/My Drive/vision_transformer_images'"
      ],
      "execution_count": null,
      "outputs": []
    },
    {
      "cell_type": "code",
      "metadata": {
        "id": "VZJdKYv3mLqd"
      },
      "source": [
        "# Download some dataset & unzip.\n",
        "! rm -rf '$base/flower_photos'; mkdir -p '$base'\n",
        "! (cd '$base' && curl https://storage.googleapis.com/download.tensorflow.org/example_images/flower_photos.tgz | tar xz)"
      ],
      "execution_count": null,
      "outputs": []
    },
    {
      "cell_type": "code",
      "metadata": {
        "id": "0QRnYHLzmPxL"
      },
      "source": [
        "# Since the default file format of above \"tf_flowers\" dataset is\n",
        "# flower_photos/{class_name}/{filename}.jpg\n",
        "# we first need to split it into a \"train\" (90%) and a \"test\" (10%) set:\n",
        "# flower_photos/train/{class_name}/{filename}.jpg\n",
        "# flower_photos/test/{class_name}/{filename}.jpg\n",
        "\n",
        "def split(base_dir, test_ratio=0.1):\n",
        "  paths = glob.glob(f'{base_dir}/*/*.jpg')\n",
        "  random.shuffle(paths)\n",
        "  counts = dict(test=0, train=0)\n",
        "  for i, path in enumerate(paths):\n",
        "    split = 'test' if i < test_ratio * len(paths) else 'train'\n",
        "    *_, class_name, basename = path.split('/')\n",
        "    dst = f'{base_dir}/{split}/{class_name}/{basename}'\n",
        "    if not os.path.isdir(os.path.dirname(dst)):\n",
        "      os.makedirs(os.path.dirname(dst))\n",
        "    shutil.move(path, dst)\n",
        "    counts[split] += 1\n",
        "  print(f'Moved {counts[\"train\"]:,} train and {counts[\"test\"]:,} test images.')\n",
        "\n",
        "split(f'{base}/flower_photos')"
      ],
      "execution_count": null,
      "outputs": []
    },
    {
      "cell_type": "code",
      "metadata": {
        "id": "1DKwlCXTKJjJ"
      },
      "source": [
        "# Create a new temporary workdir.\n",
        "workdir = f'./workdirs/{int(time.time())}'\n",
        "workdir"
      ],
      "execution_count": null,
      "outputs": []
    },
    {
      "cell_type": "code",
      "metadata": {
        "id": "N2ojstZeKJjK"
      },
      "source": [
        "# Read data from directory containing files.\n",
        "# (See cell above for more config settings)\n",
        "config.dataset = f'{base}/flower_photos'"
      ],
      "execution_count": null,
      "outputs": []
    },
    {
      "cell_type": "code",
      "metadata": {
        "id": "L8hljjZlKJjK"
      },
      "source": [
        "# And fine-tune on images provided\n",
        "opt = train.train_and_evaluate(config, workdir)"
      ],
      "execution_count": null,
      "outputs": []
    }
  ]
}